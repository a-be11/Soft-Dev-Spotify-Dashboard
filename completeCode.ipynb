{
 "cells": [
  {
   "cell_type": "code",
   "execution_count": 1,
   "id": "f883069f",
   "metadata": {},
   "outputs": [],
   "source": [
    "skipFirstPart = True #set to true if previously read in your spotify data"
   ]
  },
  {
   "cell_type": "code",
   "execution_count": 2,
   "id": "1be2655f",
   "metadata": {},
   "outputs": [],
   "source": [
    "# Importing spotipy which allows us to access Spotify API in python\n",
    "import spotipy\n",
    "from spotipy.oauth2 import SpotifyClientCredentials\n",
    "import pandas as pd\n",
    "\n",
    "# Authentication - without user\n",
    "# Client_id and client_secret come from app details on spotify for developers\n",
    "client_credentials_manager = SpotifyClientCredentials(client_id='460984006c714f749850c9febc5fb84c',\n",
    "                                                    client_secret='c4d508e3476c485983db321ab3bf36e7')\n",
    "sp = spotipy.Spotify(client_credentials_manager=client_credentials_manager)\n",
    "\n",
    "if not skipFirstPart:\n",
    "    # Importing all user data \n",
    "\n",
    "    from os import listdir\n",
    "\n",
    "    # making an empty dataframe to store imported data\n",
    "    data_import = pd.DataFrame()\n",
    "\n",
    "    # storing name of path where data saved \n",
    "    path = 'streaming_data/'\n",
    "\n",
    "    # iterating over all json files in folder and storing all data in same dataframe\n",
    "    for file in listdir(path):\n",
    "        read_data = pd.read_json(path + file)\n",
    "        data_import = pd.concat([data_import, read_data])\n",
    "        \n",
    "        \n",
    "    # Sort streaming data so latest played tracks are first in dataframe  \n",
    "    data_import_sort = data_import.sort_values(by=['endTime'], ascending=False)\n",
    "\n",
    "    # Reseting dataframe index to start at zero\n",
    "    data_import_sort = data_import_sort.reset_index(drop=True)\n",
    "\n",
    "    # Storing 500 of most recently played tracks \n",
    "    streaming_history_sample = data_import_sort.iloc[:500]\n",
    "\n",
    "\n",
    "    # Querying spotify API for track and artist info\n",
    "\n",
    "    # empty lists to store track feature data\n",
    "    track_id_list = []\n",
    "    artist_uri_list = []\n",
    "    artist_name_track = []\n",
    "    artist_pop_list = []\n",
    "    artist_genre_list = []\n",
    "    albums_list = []\n",
    "    track_pop_list = []\n",
    "\n",
    "\n",
    "    # iterating over each imported track name and artist name, searching spotify API for track and get information about track\n",
    "    for artist_name, track_name in zip(streaming_history_sample['artistName'], streaming_history_sample['trackName']):\n",
    "        \n",
    "        # query API for track name using track and artist filters and store info\n",
    "        track_information = sp.search(q= track_name + 'track:' + track_name + 'artist:' + artist_name, type='track')\n",
    "        \n",
    "        # if track information search was sucessful get track features\n",
    "        if len(track_information['tracks']['items']) > 0:\n",
    "            first_track_id = track_information['tracks']['items'][0]['id']\n",
    "            artist_uri = track_information['tracks']['items'][0]['artists'][0]['uri']\n",
    "            artist_name = track_information['tracks']['items'][0]['artists'][0]['name']\n",
    "            artist_info = sp.artist(artist_uri)\n",
    "            artist_pop = artist_info['popularity']\n",
    "            artist_genre = artist_info['genres']  \n",
    "            albums = track_information['tracks']['items'][0]['album']['name']\n",
    "            track_pop = track_information['tracks']['items'][0]['popularity'] \n",
    "        \n",
    "        # append info for track to feature data lists\n",
    "            track_id_list.append(first_track_id)\n",
    "            artist_name_track.append(artist_name)\n",
    "            artist_pop_list.append(artist_pop)\n",
    "            artist_genre_list.append(artist_genre)\n",
    "            albums_list.append(albums)\n",
    "            track_pop_list.append(track_pop)\n",
    "\n",
    "    # if track information API search was unsuccessful store 'None' for features\n",
    "        else:\n",
    "            track_id_list.append('None')\n",
    "            artist_name_track.append('None')\n",
    "            artist_uri_list.append('None')\n",
    "            artist_pop_list.append('None')\n",
    "            artist_genre_list.append('None')\n",
    "            albums_list.append('None')\n",
    "            track_pop_list.append('None')\n",
    "            \n",
    "            \n",
    "        \n",
    "\n",
    "\n",
    "    # Storing track and artist info to a dataframe\n",
    "\n",
    "    # List of track/artist features lists\n",
    "    info_lists = [track_id_list, artist_name_track, artist_pop_list, albums_list, track_pop_list]\n",
    "    track_info = pd.DataFrame()\n",
    "\n",
    "    # Combining features to one dataframe\n",
    "    for lists in info_lists:\n",
    "        list_df= pd.DataFrame(lists)\n",
    "        track_info = pd.concat([track_info, list_df], axis=1)\n",
    "        \n",
    "    track_info.columns= ['track_id', 'artist_name_track', 'artist_pop', 'album', 'track_pop']\n",
    "\n",
    "    #track_info\n",
    "    # Making dataframe of artist genre\n",
    "\n",
    "    artist_genre_list_df = pd.DataFrame(artist_genre_list)\n",
    "\n",
    "    # Making a list to store genre column name for dataframe\n",
    "    genre_col_name = []\n",
    "    length_genres = len(artist_genre_list_df.columns)\n",
    "\n",
    "    # make a seperate column for each of the artist's genres\n",
    "    for number in range(length_genres):\n",
    "        column_name = 'genre_' + str(number) \n",
    "        genre_col_name.append(column_name)\n",
    "    \n",
    "    artist_genre_list_df.columns = genre_col_name\n",
    "\n",
    "    # Combine genres to track info \n",
    "    track_info_genre = pd.concat([track_info, artist_genre_list_df], axis=1)\n",
    "    track_info_genre_trackname = pd.concat([streaming_history_sample, track_info_genre], axis=1)\n",
    "    #track_info_genre_trackname\n",
    "\n",
    "    danceability = []\n",
    "    energy = []\n",
    "    loudness = []\n",
    "    speechiness = []\n",
    "    acousticness = []\n",
    "    instrumentalness = []\n",
    "    liveness = []\n",
    "    valence = []\n",
    "    tempo = []\n",
    "    duration_ms = []\n",
    "    time_signature = []\n",
    "\n",
    "    for track_id in track_info_genre_trackname['track_id']:\n",
    "        if track_id == 'None':\n",
    "            danceability.append('None')       \n",
    "            energy.append('None')\n",
    "            loudness.append('None')\n",
    "            speechiness.append('None')\n",
    "            acousticness.append('None')\n",
    "            instrumentalness.append('None')\n",
    "            liveness.append('None')\n",
    "            valence.append('None')\n",
    "            tempo.append('None')\n",
    "            duration_ms.append('None')\n",
    "            time_signature.append('None')\n",
    "            \n",
    "        else:\n",
    "            track_features = sp.audio_features(track_id)\n",
    "            danceability.append(track_features[0]['danceability'])\n",
    "            energy.append(track_features[0]['energy'])\n",
    "            loudness.append(track_features[0]['loudness'])\n",
    "            speechiness.append(track_features[0]['speechiness'])\n",
    "            acousticness.append(track_features[0]['acousticness'])\n",
    "            instrumentalness.append(track_features[0]['instrumentalness'])\n",
    "            liveness.append(track_features[0]['liveness'])\n",
    "            valence.append(track_features[0]['valence'])\n",
    "            tempo.append(track_features[0]['tempo'])\n",
    "            duration_ms.append(track_features[0]['duration_ms'])\n",
    "            time_signature.append(track_features[0]['time_signature'])\n",
    "        \n",
    "\n",
    "\n",
    "    # Storing track features to dataframe\n",
    "\n",
    "    # List of features\n",
    "    feature_lists = [danceability, energy, loudness, speechiness, acousticness,\n",
    "                    instrumentalness, liveness, valence, tempo, duration_ms, time_signature]\n",
    "    feature_df = pd.DataFrame()\n",
    "\n",
    "    # Combining features to one dataframe\n",
    "    for lists in feature_lists:\n",
    "        feature = pd.DataFrame(lists)\n",
    "        feature_df = pd.concat([feature_df, feature], axis=1)\n",
    "    \n",
    "    feature_df.columns= ['danceability', 'energy', 'loudness', 'speechiness',\n",
    "                        'acousticness', 'instrumentalness', 'liveness', 'valence', 'tempo',\n",
    "                        'duration_ms', 'time_signature']\n",
    "\n",
    "    #feature_df\n",
    "    # Combining track features with all other track and artist info\n",
    "    all_track_information = pd.concat([track_info_genre_trackname, feature_df], axis=1)\n",
    "    pd.options.display.max_columns = None\n",
    "\n",
    "\n",
    "    #all_track_information\n",
    "    streaming_history_track_info = all_track_information \n",
    "\n",
    "    #write to csv to not have to query the API each time. Can run from below this cell instead\n",
    "    streaming_history_track_info.to_csv(\"StreamingHistoryWithTrackInfo.csv\")"
   ]
  },
  {
   "cell_type": "code",
   "execution_count": 3,
   "id": "3b1b09a9",
   "metadata": {},
   "outputs": [],
   "source": [
    "if skipFirstPart:\n",
    "    streaming_history_track_info = pd.read_csv(\"StreamingHistoryWithTrackInfo.csv\", index_col=[0])"
   ]
  },
  {
   "cell_type": "code",
   "execution_count": 4,
   "id": "8bb017b5-8bc4-4f4f-858d-c8bd312bc74f",
   "metadata": {},
   "outputs": [],
   "source": [
    "# Importing streaming history with track feature dataset\n",
    "\n",
    "# Spotify API search for track information and features was not perfect so we need to remove\n",
    "# innaccurate results. This is done by checking the original artist name from the streaming history\n",
    "# information dowloaded from spotify and comparing to the artist name retrieved from the API search.\n",
    "# If the artist name from both sources do not match the code below removes the innaccurate data.\n",
    "\n",
    "removed_artist_mismatch = streaming_history_track_info\n",
    "count = 0\n",
    "\n",
    "for originalName, searchedName in zip(streaming_history_track_info['artistName'], streaming_history_track_info['artist_name_track']):\n",
    "    if originalName != searchedName:\n",
    "        removed_artist_mismatch= removed_artist_mismatch.drop([count])\n",
    "    count += 1\n",
    "\n",
    "removed_artist_mismatch = removed_artist_mismatch.reset_index(drop=True)\n",
    "\n",
    "removed_artist_mismatch.to_csv('user_info_cleaned.csv') "
   ]
  },
  {
   "cell_type": "code",
   "execution_count": 5,
   "id": "eb9e5805-5a34-49e8-9770-222cfeb17170",
   "metadata": {},
   "outputs": [
    {
     "data": {
      "text/html": [
       "<div>\n",
       "<style scoped>\n",
       "    .dataframe tbody tr th:only-of-type {\n",
       "        vertical-align: middle;\n",
       "    }\n",
       "\n",
       "    .dataframe tbody tr th {\n",
       "        vertical-align: top;\n",
       "    }\n",
       "\n",
       "    .dataframe thead th {\n",
       "        text-align: right;\n",
       "    }\n",
       "</style>\n",
       "<table border=\"1\" class=\"dataframe\">\n",
       "  <thead>\n",
       "    <tr style=\"text-align: right;\">\n",
       "      <th></th>\n",
       "      <th>endTime</th>\n",
       "      <th>artistName</th>\n",
       "      <th>trackName</th>\n",
       "      <th>msPlayed</th>\n",
       "      <th>track_id</th>\n",
       "      <th>artist_name_track</th>\n",
       "      <th>artist_pop</th>\n",
       "      <th>album</th>\n",
       "      <th>track_pop</th>\n",
       "      <th>genre_0</th>\n",
       "      <th>...</th>\n",
       "      <th>energy</th>\n",
       "      <th>loudness</th>\n",
       "      <th>speechiness</th>\n",
       "      <th>acousticness</th>\n",
       "      <th>instrumentalness</th>\n",
       "      <th>liveness</th>\n",
       "      <th>valence</th>\n",
       "      <th>tempo</th>\n",
       "      <th>duration_ms</th>\n",
       "      <th>time_signature</th>\n",
       "    </tr>\n",
       "  </thead>\n",
       "  <tbody>\n",
       "    <tr>\n",
       "      <th>0</th>\n",
       "      <td>2023-03-18 23:59</td>\n",
       "      <td>Dance Fruits Music</td>\n",
       "      <td>Calabria (feat. Fallen Roses, Lujavo &amp; Lunis) ...</td>\n",
       "      <td>156190</td>\n",
       "      <td>6MKuYvesr8p8csU9jt5Roa</td>\n",
       "      <td>Dance Fruits Music</td>\n",
       "      <td>73</td>\n",
       "      <td>Dance Fruits Music</td>\n",
       "      <td>64</td>\n",
       "      <td>lo-fi product</td>\n",
       "      <td>...</td>\n",
       "      <td>0.904</td>\n",
       "      <td>-3.408</td>\n",
       "      <td>0.0640</td>\n",
       "      <td>0.01530</td>\n",
       "      <td>0.550000</td>\n",
       "      <td>0.0963</td>\n",
       "      <td>0.372</td>\n",
       "      <td>124.020</td>\n",
       "      <td>128500</td>\n",
       "      <td>4</td>\n",
       "    </tr>\n",
       "    <tr>\n",
       "      <th>1</th>\n",
       "      <td>2023-03-18 23:57</td>\n",
       "      <td>Dance Fruits Music</td>\n",
       "      <td>Hello</td>\n",
       "      <td>158181</td>\n",
       "      <td>2uV2Jnqoa5oRnoGfNt19SP</td>\n",
       "      <td>Dance Fruits Music</td>\n",
       "      <td>73</td>\n",
       "      <td>Black Beatles</td>\n",
       "      <td>53</td>\n",
       "      <td>lo-fi product</td>\n",
       "      <td>...</td>\n",
       "      <td>0.794</td>\n",
       "      <td>-7.247</td>\n",
       "      <td>0.0586</td>\n",
       "      <td>0.08100</td>\n",
       "      <td>0.000017</td>\n",
       "      <td>0.0681</td>\n",
       "      <td>0.494</td>\n",
       "      <td>125.022</td>\n",
       "      <td>140225</td>\n",
       "      <td>4</td>\n",
       "    </tr>\n",
       "    <tr>\n",
       "      <th>2</th>\n",
       "      <td>2023-03-18 23:29</td>\n",
       "      <td>Dance Fruits Music</td>\n",
       "      <td>Better Off Alone</td>\n",
       "      <td>155559</td>\n",
       "      <td>4yKN43pgKLGsoGZWpHpW5A</td>\n",
       "      <td>Dance Fruits Music</td>\n",
       "      <td>73</td>\n",
       "      <td>Better Off Alone</td>\n",
       "      <td>60</td>\n",
       "      <td>lo-fi product</td>\n",
       "      <td>...</td>\n",
       "      <td>0.954</td>\n",
       "      <td>-3.751</td>\n",
       "      <td>0.0402</td>\n",
       "      <td>0.00142</td>\n",
       "      <td>0.243000</td>\n",
       "      <td>0.2390</td>\n",
       "      <td>0.266</td>\n",
       "      <td>131.964</td>\n",
       "      <td>155559</td>\n",
       "      <td>4</td>\n",
       "    </tr>\n",
       "    <tr>\n",
       "      <th>3</th>\n",
       "      <td>2023-03-18 23:26</td>\n",
       "      <td>Alesso</td>\n",
       "      <td>When I’m Gone (with Katy Perry)</td>\n",
       "      <td>161266</td>\n",
       "      <td>5902W4uHWzhtOff1UK7the</td>\n",
       "      <td>Alesso</td>\n",
       "      <td>75</td>\n",
       "      <td>When I’m Gone (with Katy Perry)</td>\n",
       "      <td>78</td>\n",
       "      <td>dance pop</td>\n",
       "      <td>...</td>\n",
       "      <td>0.886</td>\n",
       "      <td>-4.179</td>\n",
       "      <td>0.0340</td>\n",
       "      <td>0.02800</td>\n",
       "      <td>0.000000</td>\n",
       "      <td>0.4810</td>\n",
       "      <td>0.615</td>\n",
       "      <td>125.034</td>\n",
       "      <td>161267</td>\n",
       "      <td>4</td>\n",
       "    </tr>\n",
       "    <tr>\n",
       "      <th>4</th>\n",
       "      <td>2023-03-18 23:24</td>\n",
       "      <td>Tiësto</td>\n",
       "      <td>Don't Be Shy</td>\n",
       "      <td>140500</td>\n",
       "      <td>0bI7K9Becu2dtXK1Q3cZNB</td>\n",
       "      <td>Tiësto</td>\n",
       "      <td>84</td>\n",
       "      <td>Don't Be Shy</td>\n",
       "      <td>80</td>\n",
       "      <td>big room</td>\n",
       "      <td>...</td>\n",
       "      <td>0.787</td>\n",
       "      <td>-3.748</td>\n",
       "      <td>0.0583</td>\n",
       "      <td>0.19800</td>\n",
       "      <td>0.000000</td>\n",
       "      <td>0.2620</td>\n",
       "      <td>0.513</td>\n",
       "      <td>119.986</td>\n",
       "      <td>140500</td>\n",
       "      <td>4</td>\n",
       "    </tr>\n",
       "    <tr>\n",
       "      <th>...</th>\n",
       "      <td>...</td>\n",
       "      <td>...</td>\n",
       "      <td>...</td>\n",
       "      <td>...</td>\n",
       "      <td>...</td>\n",
       "      <td>...</td>\n",
       "      <td>...</td>\n",
       "      <td>...</td>\n",
       "      <td>...</td>\n",
       "      <td>...</td>\n",
       "      <td>...</td>\n",
       "      <td>...</td>\n",
       "      <td>...</td>\n",
       "      <td>...</td>\n",
       "      <td>...</td>\n",
       "      <td>...</td>\n",
       "      <td>...</td>\n",
       "      <td>...</td>\n",
       "      <td>...</td>\n",
       "      <td>...</td>\n",
       "      <td>...</td>\n",
       "    </tr>\n",
       "    <tr>\n",
       "      <th>395</th>\n",
       "      <td>2023-03-10 17:30</td>\n",
       "      <td>Dance Fruits Music</td>\n",
       "      <td>SUMMER JAM</td>\n",
       "      <td>1040</td>\n",
       "      <td>6FhhABinxDtRNKsicIv1EF</td>\n",
       "      <td>Dance Fruits Music</td>\n",
       "      <td>73</td>\n",
       "      <td>SUMMER JAM</td>\n",
       "      <td>54</td>\n",
       "      <td>lo-fi product</td>\n",
       "      <td>...</td>\n",
       "      <td>0.896</td>\n",
       "      <td>-6.446</td>\n",
       "      <td>0.0439</td>\n",
       "      <td>0.09890</td>\n",
       "      <td>0.000005</td>\n",
       "      <td>0.4230</td>\n",
       "      <td>0.202</td>\n",
       "      <td>125.020</td>\n",
       "      <td>142080</td>\n",
       "      <td>4</td>\n",
       "    </tr>\n",
       "    <tr>\n",
       "      <th>396</th>\n",
       "      <td>2023-03-10 17:30</td>\n",
       "      <td>Dance Fruits Music</td>\n",
       "      <td>The Rhythm Of The Night</td>\n",
       "      <td>1150</td>\n",
       "      <td>46tcH6oyF61incTXuv4eHm</td>\n",
       "      <td>Dance Fruits Music</td>\n",
       "      <td>73</td>\n",
       "      <td>Dance Fruits Music</td>\n",
       "      <td>48</td>\n",
       "      <td>lo-fi product</td>\n",
       "      <td>...</td>\n",
       "      <td>0.967</td>\n",
       "      <td>-3.145</td>\n",
       "      <td>0.0791</td>\n",
       "      <td>0.00407</td>\n",
       "      <td>0.675000</td>\n",
       "      <td>0.0859</td>\n",
       "      <td>0.391</td>\n",
       "      <td>126.969</td>\n",
       "      <td>148062</td>\n",
       "      <td>4</td>\n",
       "    </tr>\n",
       "    <tr>\n",
       "      <th>397</th>\n",
       "      <td>2023-03-10 17:30</td>\n",
       "      <td>Alesso</td>\n",
       "      <td>When I’m Gone (with Katy Perry)</td>\n",
       "      <td>1040</td>\n",
       "      <td>5902W4uHWzhtOff1UK7the</td>\n",
       "      <td>Alesso</td>\n",
       "      <td>75</td>\n",
       "      <td>When I’m Gone (with Katy Perry)</td>\n",
       "      <td>78</td>\n",
       "      <td>dance pop</td>\n",
       "      <td>...</td>\n",
       "      <td>0.886</td>\n",
       "      <td>-4.179</td>\n",
       "      <td>0.0340</td>\n",
       "      <td>0.02800</td>\n",
       "      <td>0.000000</td>\n",
       "      <td>0.4810</td>\n",
       "      <td>0.615</td>\n",
       "      <td>125.034</td>\n",
       "      <td>161267</td>\n",
       "      <td>4</td>\n",
       "    </tr>\n",
       "    <tr>\n",
       "      <th>398</th>\n",
       "      <td>2023-03-10 17:30</td>\n",
       "      <td>ATB</td>\n",
       "      <td>Your Love (9PM)</td>\n",
       "      <td>18021</td>\n",
       "      <td>5YaskwnGDZFDRipaqzbwQx</td>\n",
       "      <td>ATB</td>\n",
       "      <td>64</td>\n",
       "      <td>Your Love (9PM)</td>\n",
       "      <td>79</td>\n",
       "      <td>german dance</td>\n",
       "      <td>...</td>\n",
       "      <td>0.784</td>\n",
       "      <td>-5.603</td>\n",
       "      <td>0.1120</td>\n",
       "      <td>0.19400</td>\n",
       "      <td>0.000006</td>\n",
       "      <td>0.1150</td>\n",
       "      <td>0.517</td>\n",
       "      <td>125.993</td>\n",
       "      <td>150053</td>\n",
       "      <td>4</td>\n",
       "    </tr>\n",
       "    <tr>\n",
       "      <th>399</th>\n",
       "      <td>2023-03-10 17:30</td>\n",
       "      <td>Dance Fruits Music</td>\n",
       "      <td>Hello</td>\n",
       "      <td>1610</td>\n",
       "      <td>2uV2Jnqoa5oRnoGfNt19SP</td>\n",
       "      <td>Dance Fruits Music</td>\n",
       "      <td>73</td>\n",
       "      <td>Black Beatles</td>\n",
       "      <td>53</td>\n",
       "      <td>lo-fi product</td>\n",
       "      <td>...</td>\n",
       "      <td>0.794</td>\n",
       "      <td>-7.247</td>\n",
       "      <td>0.0586</td>\n",
       "      <td>0.08100</td>\n",
       "      <td>0.000017</td>\n",
       "      <td>0.0681</td>\n",
       "      <td>0.494</td>\n",
       "      <td>125.022</td>\n",
       "      <td>140225</td>\n",
       "      <td>4</td>\n",
       "    </tr>\n",
       "  </tbody>\n",
       "</table>\n",
       "<p>400 rows × 29 columns</p>\n",
       "</div>"
      ],
      "text/plain": [
       "              endTime          artistName  \\\n",
       "0    2023-03-18 23:59  Dance Fruits Music   \n",
       "1    2023-03-18 23:57  Dance Fruits Music   \n",
       "2    2023-03-18 23:29  Dance Fruits Music   \n",
       "3    2023-03-18 23:26              Alesso   \n",
       "4    2023-03-18 23:24              Tiësto   \n",
       "..                ...                 ...   \n",
       "395  2023-03-10 17:30  Dance Fruits Music   \n",
       "396  2023-03-10 17:30  Dance Fruits Music   \n",
       "397  2023-03-10 17:30              Alesso   \n",
       "398  2023-03-10 17:30                 ATB   \n",
       "399  2023-03-10 17:30  Dance Fruits Music   \n",
       "\n",
       "                                             trackName  msPlayed  \\\n",
       "0    Calabria (feat. Fallen Roses, Lujavo & Lunis) ...    156190   \n",
       "1                                                Hello    158181   \n",
       "2                                     Better Off Alone    155559   \n",
       "3                      When I’m Gone (with Katy Perry)    161266   \n",
       "4                                         Don't Be Shy    140500   \n",
       "..                                                 ...       ...   \n",
       "395                                         SUMMER JAM      1040   \n",
       "396                            The Rhythm Of The Night      1150   \n",
       "397                    When I’m Gone (with Katy Perry)      1040   \n",
       "398                                    Your Love (9PM)     18021   \n",
       "399                                              Hello      1610   \n",
       "\n",
       "                   track_id   artist_name_track  artist_pop  \\\n",
       "0    6MKuYvesr8p8csU9jt5Roa  Dance Fruits Music          73   \n",
       "1    2uV2Jnqoa5oRnoGfNt19SP  Dance Fruits Music          73   \n",
       "2    4yKN43pgKLGsoGZWpHpW5A  Dance Fruits Music          73   \n",
       "3    5902W4uHWzhtOff1UK7the              Alesso          75   \n",
       "4    0bI7K9Becu2dtXK1Q3cZNB              Tiësto          84   \n",
       "..                      ...                 ...         ...   \n",
       "395  6FhhABinxDtRNKsicIv1EF  Dance Fruits Music          73   \n",
       "396  46tcH6oyF61incTXuv4eHm  Dance Fruits Music          73   \n",
       "397  5902W4uHWzhtOff1UK7the              Alesso          75   \n",
       "398  5YaskwnGDZFDRipaqzbwQx                 ATB          64   \n",
       "399  2uV2Jnqoa5oRnoGfNt19SP  Dance Fruits Music          73   \n",
       "\n",
       "                               album  track_pop        genre_0  ... energy  \\\n",
       "0                 Dance Fruits Music         64  lo-fi product  ...  0.904   \n",
       "1                      Black Beatles         53  lo-fi product  ...  0.794   \n",
       "2                   Better Off Alone         60  lo-fi product  ...  0.954   \n",
       "3    When I’m Gone (with Katy Perry)         78      dance pop  ...  0.886   \n",
       "4                       Don't Be Shy         80       big room  ...  0.787   \n",
       "..                               ...        ...            ...  ...    ...   \n",
       "395                       SUMMER JAM         54  lo-fi product  ...  0.896   \n",
       "396               Dance Fruits Music         48  lo-fi product  ...  0.967   \n",
       "397  When I’m Gone (with Katy Perry)         78      dance pop  ...  0.886   \n",
       "398                  Your Love (9PM)         79   german dance  ...  0.784   \n",
       "399                    Black Beatles         53  lo-fi product  ...  0.794   \n",
       "\n",
       "    loudness speechiness acousticness instrumentalness liveness valence  \\\n",
       "0     -3.408      0.0640      0.01530         0.550000   0.0963   0.372   \n",
       "1     -7.247      0.0586      0.08100         0.000017   0.0681   0.494   \n",
       "2     -3.751      0.0402      0.00142         0.243000   0.2390   0.266   \n",
       "3     -4.179      0.0340      0.02800         0.000000   0.4810   0.615   \n",
       "4     -3.748      0.0583      0.19800         0.000000   0.2620   0.513   \n",
       "..       ...         ...          ...              ...      ...     ...   \n",
       "395   -6.446      0.0439      0.09890         0.000005   0.4230   0.202   \n",
       "396   -3.145      0.0791      0.00407         0.675000   0.0859   0.391   \n",
       "397   -4.179      0.0340      0.02800         0.000000   0.4810   0.615   \n",
       "398   -5.603      0.1120      0.19400         0.000006   0.1150   0.517   \n",
       "399   -7.247      0.0586      0.08100         0.000017   0.0681   0.494   \n",
       "\n",
       "       tempo  duration_ms  time_signature  \n",
       "0    124.020       128500               4  \n",
       "1    125.022       140225               4  \n",
       "2    131.964       155559               4  \n",
       "3    125.034       161267               4  \n",
       "4    119.986       140500               4  \n",
       "..       ...          ...             ...  \n",
       "395  125.020       142080               4  \n",
       "396  126.969       148062               4  \n",
       "397  125.034       161267               4  \n",
       "398  125.993       150053               4  \n",
       "399  125.022       140225               4  \n",
       "\n",
       "[400 rows x 29 columns]"
      ]
     },
     "execution_count": 5,
     "metadata": {},
     "output_type": "execute_result"
    }
   ],
   "source": [
    "user_track_data = pd.read_csv(\"user_info_cleaned.csv\", index_col=0)\n",
    "user_track_data"
   ]
  },
  {
   "cell_type": "code",
   "execution_count": 6,
   "id": "34a20e73",
   "metadata": {},
   "outputs": [],
   "source": [
    "# Count identical values in Column1\n",
    "counts = user_track_data['trackName'].value_counts()\n",
    "artist_counts = user_track_data['artistName'].value_counts()\n",
    "\n",
    "# Making a new dataframe deleting duplicated artist names and sorting by artist popularity scores\n",
    "popularity_score_artist = user_track_data.drop_duplicates(subset='artistName')\n",
    "popularity_score_artist = popularity_score_artist.sort_values(['artist_pop'], ascending=False).reset_index()\n",
    "\n",
    "\n",
    "# Create a new dataframe with unique values and their counts\n",
    "popular_tracks = pd.DataFrame({'trackName': counts.index, 'Count': counts.values})\n",
    "popular_artists = pd.DataFrame({'artistName': artist_counts.index, 'Count': artist_counts.values})\n",
    "\n",
    "# Sort the dataframe by count in descending order\n",
    "popular_tracks = popular_tracks.sort_values(by='Count', ascending=False)\n",
    "popular_artists = popular_artists.sort_values(by='Count', ascending=False)\n"
   ]
  },
  {
   "cell_type": "code",
   "execution_count": 7,
   "id": "476cac29",
   "metadata": {},
   "outputs": [],
   "source": [
    "# Saving most frequent tracks and artists to separate dataframe (top 20)\n",
    "top_20_track = popular_tracks.iloc[0:20,]\n",
    "top_20_artists = popular_artists.iloc[0:20,]\n",
    "# Save artists with highest and lowest popularity scores to dataframe\n",
    "popularity_score_artist = pd.concat([popularity_score_artist.head(10), popularity_score_artist.tail(10)])"
   ]
  },
  {
   "cell_type": "code",
   "execution_count": 8,
   "id": "45078400-99b0-4634-b824-9299463246cb",
   "metadata": {},
   "outputs": [
    {
     "data": {
      "image/png": "[encoded data removed]",
      "text/plain": [
       "<Figure size 720x432 with 1 Axes>"
      ]
     },
     "metadata": {
      "needs_background": "light"
     },
     "output_type": "display_data"
    }
   ],
   "source": [
    "import matplotlib.pyplot as plt\n",
    "import seaborn as sns\n",
    "\n",
    "\n",
    "plt.figure(figsize=(10,6))\n",
    "most_frequent_track = sns.countplot(x='trackName', alpha=0.8, data=user_track_data, order=pd.value_counts(user_track_data['trackName']).iloc[0:20].index)\n",
    "most_frequent_track.set_xticklabels(most_frequent_track.get_xticklabels(), rotation=90);"
   ]
  },
  {
   "cell_type": "code",
   "execution_count": 9,
   "id": "583f8b94",
   "metadata": {},
   "outputs": [
    {
     "data": {
      "application/vnd.plotly.v1+json": {
       "config": {
        "plotlyServerURL": "https://plot.ly"
       },
       "data": [
        {
         "alignmentgroup": "True",
         "hovertemplate": "trackName=%{x}<br>Count=%{y}<extra></extra>",
         "legendgroup": "",
         "marker": {
          "color": "#636efa",
          "pattern": {
           "shape": ""
          }
         },
         "name": "",
         "offsetgroup": "",
         "orientation": "v",
         "showlegend": false,
         "textposition": "auto",
         "type": "bar",
         "x": [
          "Drunken Sailor (Sea Shanty)",
          "Thunder",
          "Love Tonight (David Guetta Remix Edit)",
          "Calabria (feat. Fallen Roses, Lujavo & Lunis) - Shift K3Y Edit",
          "Cups",
          "Bad Memories",
          "The Rhythm Of The Night",
          "Your Love (9PM)",
          "Blue (Da Ba Dee)",
          "Cola",
          "Don't Be Shy",
          "When I’m Gone (with Katy Perry)",
          "SUMMER JAM",
          "Friday (feat. Mufasa & Hypeman) - Dopamine Re-Edit",
          "Better Off Alone",
          "Hello",
          "Move Your Body",
          "Una Emocion para Siempre",
          "U + Ur Hand",
          "Who Knew"
         ],
         "xaxis": "x",
         "y": [
          48,
          42,
          26,
          20,
          20,
          17,
          15,
          15,
          14,
          14,
          13,
          13,
          13,
          12,
          12,
          11,
          11,
          9,
          3,
          3
         ],
         "yaxis": "y"
        }
       ],
       "layout": {
        "barmode": "relative",
        "height": 800,
        "legend": {
         "tracegroupgap": 0
        },
        "margin": {
         "t": 60
        },
        "template": {
         "data": {
          "bar": [
           {
            "error_x": {
             "color": "#2a3f5f"
            },
            "error_y": {
             "color": "#2a3f5f"
            },
            "marker": {
             "line": {
              "color": "#E5ECF6",
              "width": 0.5
             },
             "pattern": {
              "fillmode": "overlay",
              "size": 10,
              "solidity": 0.2
             }
            },
            "type": "bar"
           }
          ],
          "barpolar": [
           {
            "marker": {
             "line": {
              "color": "#E5ECF6",
              "width": 0.5
             },
             "pattern": {
              "fillmode": "overlay",
              "size": 10,
              "solidity": 0.2
             }
            },
            "type": "barpolar"
           }
          ],
          "carpet": [
           {
            "aaxis": {
             "endlinecolor": "#2a3f5f",
             "gridcolor": "white",
             "linecolor": "white",
             "minorgridcolor": "white",
             "startlinecolor": "#2a3f5f"
            },
            "baxis": {
             "endlinecolor": "#2a3f5f",
             "gridcolor": "white",
             "linecolor": "white",
             "minorgridcolor": "white",
             "startlinecolor": "#2a3f5f"
            },
            "type": "carpet"
           }
          ],
          "choropleth": [
           {
            "colorbar": {
             "outlinewidth": 0,
             "ticks": ""
            },
            "type": "choropleth"
           }
          ],
          "contour": [
           {
            "colorbar": {
             "outlinewidth": 0,
             "ticks": ""
            },
            "colorscale": [
             [
              0,
              "#0d0887"
             ],
             [
              0.1111111111111111,
              "#46039f"
             ],
             [
              0.2222222222222222,
              "#7201a8"
             ],
             [
              0.3333333333333333,
              "#9c179e"
             ],
             [
              0.4444444444444444,
              "#bd3786"
             ],
             [
              0.5555555555555556,
              "#d8576b"
             ],
             [
              0.6666666666666666,
              "#ed7953"
             ],
             [
              0.7777777777777778,
              "#fb9f3a"
             ],
             [
              0.8888888888888888,
              "#fdca26"
             ],
             [
              1,
              "#f0f921"
             ]
            ],
            "type": "contour"
           }
          ],
          "contourcarpet": [
           {
            "colorbar": {
             "outlinewidth": 0,
             "ticks": ""
            },
            "type": "contourcarpet"
           }
          ],
          "heatmap": [
           {
            "colorbar": {
             "outlinewidth": 0,
             "ticks": ""
            },
            "colorscale": [
             [
              0,
              "#0d0887"
             ],
             [
              0.1111111111111111,
              "#46039f"
             ],
             [
              0.2222222222222222,
              "#7201a8"
             ],
             [
              0.3333333333333333,
              "#9c179e"
             ],
             [
              0.4444444444444444,
              "#bd3786"
             ],
             [
              0.5555555555555556,
              "#d8576b"
             ],
             [
              0.6666666666666666,
              "#ed7953"
             ],
             [
              0.7777777777777778,
              "#fb9f3a"
             ],
             [
              0.8888888888888888,
              "#fdca26"
             ],
             [
              1,
              "#f0f921"
             ]
            ],
            "type": "heatmap"
           }
          ],
          "heatmapgl": [
           {
            "colorbar": {
             "outlinewidth": 0,
             "ticks": ""
            },
            "colorscale": [
             [
              0,
              "#0d0887"
             ],
             [
              0.1111111111111111,
              "#46039f"
             ],
             [
              0.2222222222222222,
              "#7201a8"
             ],
             [
              0.3333333333333333,
              "#9c179e"
             ],
             [
              0.4444444444444444,
              "#bd3786"
             ],
             [
              0.5555555555555556,
              "#d8576b"
             ],
             [
              0.6666666666666666,
              "#ed7953"
             ],
             [
              0.7777777777777778,
              "#fb9f3a"
             ],
             [
              0.8888888888888888,
              "#fdca26"
             ],
             [
              1,
              "#f0f921"
             ]
            ],
            "type": "heatmapgl"
           }
          ],
          "histogram": [
           {
            "marker": {
             "pattern": {
              "fillmode": "overlay",
              "size": 10,
              "solidity": 0.2
             }
            },
            "type": "histogram"
           }
          ],
          "histogram2d": [
           {
            "colorbar": {
             "outlinewidth": 0,
             "ticks": ""
            },
            "colorscale": [
             [
              0,
              "#0d0887"
             ],
             [
              0.1111111111111111,
              "#46039f"
             ],
             [
              0.2222222222222222,
              "#7201a8"
             ],
             [
              0.3333333333333333,
              "#9c179e"
             ],
             [
              0.4444444444444444,
              "#bd3786"
             ],
             [
              0.5555555555555556,
              "#d8576b"
             ],
             [
              0.6666666666666666,
              "#ed7953"
             ],
             [
              0.7777777777777778,
              "#fb9f3a"
             ],
             [
              0.8888888888888888,
              "#fdca26"
             ],
             [
              1,
              "#f0f921"
             ]
            ],
            "type": "histogram2d"
           }
          ],
          "histogram2dcontour": [
           {
            "colorbar": {
             "outlinewidth": 0,
             "ticks": ""
            },
            "colorscale": [
             [
              0,
              "#0d0887"
             ],
             [
              0.1111111111111111,
              "#46039f"
             ],
             [
              0.2222222222222222,
              "#7201a8"
             ],
             [
              0.3333333333333333,
              "#9c179e"
             ],
             [
              0.4444444444444444,
              "#bd3786"
             ],
             [
              0.5555555555555556,
              "#d8576b"
             ],
             [
              0.6666666666666666,
              "#ed7953"
             ],
             [
              0.7777777777777778,
              "#fb9f3a"
             ],
             [
              0.8888888888888888,
              "#fdca26"
             ],
             [
              1,
              "#f0f921"
             ]
            ],
            "type": "histogram2dcontour"
           }
          ],
          "mesh3d": [
           {
            "colorbar": {
             "outlinewidth": 0,
             "ticks": ""
            },
            "type": "mesh3d"
           }
          ],
          "parcoords": [
           {
            "line": {
             "colorbar": {
              "outlinewidth": 0,
              "ticks": ""
             }
            },
            "type": "parcoords"
           }
          ],
          "pie": [
           {
            "automargin": true,
            "type": "pie"
           }
          ],
          "scatter": [
           {
            "fillpattern": {
             "fillmode": "overlay",
             "size": 10,
             "solidity": 0.2
            },
            "type": "scatter"
           }
          ],
          "scatter3d": [
           {
            "line": {
             "colorbar": {
              "outlinewidth": 0,
              "ticks": ""
             }
            },
            "marker": {
             "colorbar": {
              "outlinewidth": 0,
              "ticks": ""
             }
            },
            "type": "scatter3d"
           }
          ],
          "scattercarpet": [
           {
            "marker": {
             "colorbar": {
              "outlinewidth": 0,
              "ticks": ""
             }
            },
            "type": "scattercarpet"
           }
          ],
          "scattergeo": [
           {
            "marker": {
             "colorbar": {
              "outlinewidth": 0,
              "ticks": ""
             }
            },
            "type": "scattergeo"
           }
          ],
          "scattergl": [
           {
            "marker": {
             "colorbar": {
              "outlinewidth": 0,
              "ticks": ""
             }
            },
            "type": "scattergl"
           }
          ],
          "scattermapbox": [
           {
            "marker": {
             "colorbar": {
              "outlinewidth": 0,
              "ticks": ""
             }
            },
            "type": "scattermapbox"
           }
          ],
          "scatterpolar": [
           {
            "marker": {
             "colorbar": {
              "outlinewidth": 0,
              "ticks": ""
             }
            },
            "type": "scatterpolar"
           }
          ],
          "scatterpolargl": [
           {
            "marker": {
             "colorbar": {
              "outlinewidth": 0,
              "ticks": ""
             }
            },
            "type": "scatterpolargl"
           }
          ],
          "scatterternary": [
           {
            "marker": {
             "colorbar": {
              "outlinewidth": 0,
              "ticks": ""
             }
            },
            "type": "scatterternary"
           }
          ],
          "surface": [
           {
            "colorbar": {
             "outlinewidth": 0,
             "ticks": ""
            },
            "colorscale": [
             [
              0,
              "#0d0887"
             ],
             [
              0.1111111111111111,
              "#46039f"
             ],
             [
              0.2222222222222222,
              "#7201a8"
             ],
             [
              0.3333333333333333,
              "#9c179e"
             ],
             [
              0.4444444444444444,
              "#bd3786"
             ],
             [
              0.5555555555555556,
              "#d8576b"
             ],
             [
              0.6666666666666666,
              "#ed7953"
             ],
             [
              0.7777777777777778,
              "#fb9f3a"
             ],
             [
              0.8888888888888888,
              "#fdca26"
             ],
             [
              1,
              "#f0f921"
             ]
            ],
            "type": "surface"
           }
          ],
          "table": [
           {
            "cells": {
             "fill": {
              "color": "#EBF0F8"
             },
             "line": {
              "color": "white"
             }
            },
            "header": {
             "fill": {
              "color": "#C8D4E3"
             },
             "line": {
              "color": "white"
             }
            },
            "type": "table"
           }
          ]
         },
         "layout": {
          "annotationdefaults": {
           "arrowcolor": "#2a3f5f",
           "arrowhead": 0,
           "arrowwidth": 1
          },
          "autotypenumbers": "strict",
          "coloraxis": {
           "colorbar": {
            "outlinewidth": 0,
            "ticks": ""
           }
          },
          "colorscale": {
           "diverging": [
            [
             0,
             "#8e0152"
            ],
            [
             0.1,
             "#c51b7d"
            ],
            [
             0.2,
             "#de77ae"
            ],
            [
             0.3,
             "#f1b6da"
            ],
            [
             0.4,
             "#fde0ef"
            ],
            [
             0.5,
             "#f7f7f7"
            ],
            [
             0.6,
             "#e6f5d0"
            ],
            [
             0.7,
             "#b8e186"
            ],
            [
             0.8,
             "#7fbc41"
            ],
            [
             0.9,
             "#4d9221"
            ],
            [
             1,
             "#276419"
            ]
           ],
           "sequential": [
            [
             0,
             "#0d0887"
            ],
            [
             0.1111111111111111,
             "#46039f"
            ],
            [
             0.2222222222222222,
             "#7201a8"
            ],
            [
             0.3333333333333333,
             "#9c179e"
            ],
            [
             0.4444444444444444,
             "#bd3786"
            ],
            [
             0.5555555555555556,
             "#d8576b"
            ],
            [
             0.6666666666666666,
             "#ed7953"
            ],
            [
             0.7777777777777778,
             "#fb9f3a"
            ],
            [
             0.8888888888888888,
             "#fdca26"
            ],
            [
             1,
             "#f0f921"
            ]
           ],
           "sequentialminus": [
            [
             0,
             "#0d0887"
            ],
            [
             0.1111111111111111,
             "#46039f"
            ],
            [
             0.2222222222222222,
             "#7201a8"
            ],
            [
             0.3333333333333333,
             "#9c179e"
            ],
            [
             0.4444444444444444,
             "#bd3786"
            ],
            [
             0.5555555555555556,
             "#d8576b"
            ],
            [
             0.6666666666666666,
             "#ed7953"
            ],
            [
             0.7777777777777778,
             "#fb9f3a"
            ],
            [
             0.8888888888888888,
             "#fdca26"
            ],
            [
             1,
             "#f0f921"
            ]
           ]
          },
          "colorway": [
           "#636efa",
           "#EF553B",
           "#00cc96",
           "#ab63fa",
           "#FFA15A",
           "#19d3f3",
           "#FF6692",
           "#B6E880",
           "#FF97FF",
           "#FECB52"
          ],
          "font": {
           "color": "#2a3f5f"
          },
          "geo": {
           "bgcolor": "white",
           "lakecolor": "white",
           "landcolor": "#E5ECF6",
           "showlakes": true,
           "showland": true,
           "subunitcolor": "white"
          },
          "hoverlabel": {
           "align": "left"
          },
          "hovermode": "closest",
          "mapbox": {
           "style": "light"
          },
          "paper_bgcolor": "white",
          "plot_bgcolor": "#E5ECF6",
          "polar": {
           "angularaxis": {
            "gridcolor": "white",
            "linecolor": "white",
            "ticks": ""
           },
           "bgcolor": "#E5ECF6",
           "radialaxis": {
            "gridcolor": "white",
            "linecolor": "white",
            "ticks": ""
           }
          },
          "scene": {
           "xaxis": {
            "backgroundcolor": "#E5ECF6",
            "gridcolor": "white",
            "gridwidth": 2,
            "linecolor": "white",
            "showbackground": true,
            "ticks": "",
            "zerolinecolor": "white"
           },
           "yaxis": {
            "backgroundcolor": "#E5ECF6",
            "gridcolor": "white",
            "gridwidth": 2,
            "linecolor": "white",
            "showbackground": true,
            "ticks": "",
            "zerolinecolor": "white"
           },
           "zaxis": {
            "backgroundcolor": "#E5ECF6",
            "gridcolor": "white",
            "gridwidth": 2,
            "linecolor": "white",
            "showbackground": true,
            "ticks": "",
            "zerolinecolor": "white"
           }
          },
          "shapedefaults": {
           "line": {
            "color": "#2a3f5f"
           }
          },
          "ternary": {
           "aaxis": {
            "gridcolor": "white",
            "linecolor": "white",
            "ticks": ""
           },
           "baxis": {
            "gridcolor": "white",
            "linecolor": "white",
            "ticks": ""
           },
           "bgcolor": "#E5ECF6",
           "caxis": {
            "gridcolor": "white",
            "linecolor": "white",
            "ticks": ""
           }
          },
          "title": {
           "x": 0.05
          },
          "xaxis": {
           "automargin": true,
           "gridcolor": "white",
           "linecolor": "white",
           "ticks": "",
           "title": {
            "standoff": 15
           },
           "zerolinecolor": "white",
           "zerolinewidth": 2
          },
          "yaxis": {
           "automargin": true,
           "gridcolor": "white",
           "linecolor": "white",
           "ticks": "",
           "title": {
            "standoff": 15
           },
           "zerolinecolor": "white",
           "zerolinewidth": 2
          }
         }
        },
        "width": 1200,
        "xaxis": {
         "anchor": "y",
         "categoryorder": "total descending",
         "domain": [
          0,
          1
         ],
         "title": {
          "text": "trackName"
         }
        },
        "yaxis": {
         "anchor": "x",
         "domain": [
          0,
          1
         ],
         "title": {
          "text": "Count"
         }
        }
       }
      }
     },
     "metadata": {},
     "output_type": "display_data"
    }
   ],
   "source": [
    "import plotly.express as px\n",
    "#redo all graphs in plotly to add to dash\n",
    "pFrequentTrack = px.bar(top_20_track, x=\"trackName\", y=\"Count\", width=1200, height=800)\n",
    "pFrequentTrack.update_layout(xaxis={'categoryorder':'total descending'})\n",
    "\n",
    "pFrequentTrack"
   ]
  },
  {
   "cell_type": "code",
   "execution_count": 10,
   "id": "3a0a772c-5450-4f87-bd21-4ff70eb46809",
   "metadata": {},
   "outputs": [
    {
     "data": {
      "image/png": "[encoded data removed]",
      "text/plain": [
       "<Figure size 720x432 with 1 Axes>"
      ]
     },
     "metadata": {
      "needs_background": "light"
     },
     "output_type": "display_data"
    }
   ],
   "source": [
    "plt.figure(figsize=(10,6))\n",
    "most_frequent_artist = sns.countplot(x='artistName', alpha=0.8, data=user_track_data, order=pd.value_counts(user_track_data['artistName']).iloc[:20].index)\n",
    "most_frequent_artist.set_xticklabels(most_frequent_artist.get_xticklabels(), rotation=90);"
   ]
  },
  {
   "cell_type": "code",
   "execution_count": 11,
   "id": "dc74d5ca",
   "metadata": {},
   "outputs": [
    {
     "data": {
      "application/vnd.plotly.v1+json": {
       "config": {
        "plotlyServerURL": "https://plot.ly"
       },
       "data": [
        {
         "alignmentgroup": "True",
         "hovertemplate": "artistName=%{x}<br>Count=%{y}<extra></extra>",
         "legendgroup": "",
         "marker": {
          "color": "#636efa",
          "pattern": {
           "shape": ""
          }
         },
         "name": "",
         "offsetgroup": "",
         "orientation": "v",
         "showlegend": false,
         "textposition": "auto",
         "type": "bar",
         "x": [
          "Dance Fruits Music",
          "Gabry Ponte",
          "Shouse",
          "MEDUZA",
          "P!nk",
          "ATB",
          "MELON",
          "Tiësto",
          "Alesso",
          "Riton",
          "Öwnboss",
          "Eros Ramazzotti",
          "Ed Sheeran",
          "Lizzo",
          "Céline Dion",
          "Nathan Dawe",
          "Justin Timberlake",
          "TheFatRat",
          "Harry Styles",
          "MKTO"
         ],
         "xaxis": "x",
         "y": [
          153,
          42,
          26,
          17,
          16,
          15,
          14,
          13,
          13,
          12,
          11,
          10,
          2,
          2,
          2,
          2,
          2,
          2,
          2,
          2
         ],
         "yaxis": "y"
        }
       ],
       "layout": {
        "barmode": "relative",
        "height": 800,
        "legend": {
         "tracegroupgap": 0
        },
        "margin": {
         "t": 60
        },
        "template": {
         "data": {
          "bar": [
           {
            "error_x": {
             "color": "#2a3f5f"
            },
            "error_y": {
             "color": "#2a3f5f"
            },
            "marker": {
             "line": {
              "color": "#E5ECF6",
              "width": 0.5
             },
             "pattern": {
              "fillmode": "overlay",
              "size": 10,
              "solidity": 0.2
             }
            },
            "type": "bar"
           }
          ],
          "barpolar": [
           {
            "marker": {
             "line": {
              "color": "#E5ECF6",
              "width": 0.5
             },
             "pattern": {
              "fillmode": "overlay",
              "size": 10,
              "solidity": 0.2
             }
            },
            "type": "barpolar"
           }
          ],
          "carpet": [
           {
            "aaxis": {
             "endlinecolor": "#2a3f5f",
             "gridcolor": "white",
             "linecolor": "white",
             "minorgridcolor": "white",
             "startlinecolor": "#2a3f5f"
            },
            "baxis": {
             "endlinecolor": "#2a3f5f",
             "gridcolor": "white",
             "linecolor": "white",
             "minorgridcolor": "white",
             "startlinecolor": "#2a3f5f"
            },
            "type": "carpet"
           }
          ],
          "choropleth": [
           {
            "colorbar": {
             "outlinewidth": 0,
             "ticks": ""
            },
            "type": "choropleth"
           }
          ],
          "contour": [
           {
            "colorbar": {
             "outlinewidth": 0,
             "ticks": ""
            },
            "colorscale": [
             [
              0,
              "#0d0887"
             ],
             [
              0.1111111111111111,
              "#46039f"
             ],
             [
              0.2222222222222222,
              "#7201a8"
             ],
             [
              0.3333333333333333,
              "#9c179e"
             ],
             [
              0.4444444444444444,
              "#bd3786"
             ],
             [
              0.5555555555555556,
              "#d8576b"
             ],
             [
              0.6666666666666666,
              "#ed7953"
             ],
             [
              0.7777777777777778,
              "#fb9f3a"
             ],
             [
              0.8888888888888888,
              "#fdca26"
             ],
             [
              1,
              "#f0f921"
             ]
            ],
            "type": "contour"
           }
          ],
          "contourcarpet": [
           {
            "colorbar": {
             "outlinewidth": 0,
             "ticks": ""
            },
            "type": "contourcarpet"
           }
          ],
          "heatmap": [
           {
            "colorbar": {
             "outlinewidth": 0,
             "ticks": ""
            },
            "colorscale": [
             [
              0,
              "#0d0887"
             ],
             [
              0.1111111111111111,
              "#46039f"
             ],
             [
              0.2222222222222222,
              "#7201a8"
             ],
             [
              0.3333333333333333,
              "#9c179e"
             ],
             [
              0.4444444444444444,
              "#bd3786"
             ],
             [
              0.5555555555555556,
              "#d8576b"
             ],
             [
              0.6666666666666666,
              "#ed7953"
             ],
             [
              0.7777777777777778,
              "#fb9f3a"
             ],
             [
              0.8888888888888888,
              "#fdca26"
             ],
             [
              1,
              "#f0f921"
             ]
            ],
            "type": "heatmap"
           }
          ],
          "heatmapgl": [
           {
            "colorbar": {
             "outlinewidth": 0,
             "ticks": ""
            },
            "colorscale": [
             [
              0,
              "#0d0887"
             ],
             [
              0.1111111111111111,
              "#46039f"
             ],
             [
              0.2222222222222222,
              "#7201a8"
             ],
             [
              0.3333333333333333,
              "#9c179e"
             ],
             [
              0.4444444444444444,
              "#bd3786"
             ],
             [
              0.5555555555555556,
              "#d8576b"
             ],
             [
              0.6666666666666666,
              "#ed7953"
             ],
             [
              0.7777777777777778,
              "#fb9f3a"
             ],
             [
              0.8888888888888888,
              "#fdca26"
             ],
             [
              1,
              "#f0f921"
             ]
            ],
            "type": "heatmapgl"
           }
          ],
          "histogram": [
           {
            "marker": {
             "pattern": {
              "fillmode": "overlay",
              "size": 10,
              "solidity": 0.2
             }
            },
            "type": "histogram"
           }
          ],
          "histogram2d": [
           {
            "colorbar": {
             "outlinewidth": 0,
             "ticks": ""
            },
            "colorscale": [
             [
              0,
              "#0d0887"
             ],
             [
              0.1111111111111111,
              "#46039f"
             ],
             [
              0.2222222222222222,
              "#7201a8"
             ],
             [
              0.3333333333333333,
              "#9c179e"
             ],
             [
              0.4444444444444444,
              "#bd3786"
             ],
             [
              0.5555555555555556,
              "#d8576b"
             ],
             [
              0.6666666666666666,
              "#ed7953"
             ],
             [
              0.7777777777777778,
              "#fb9f3a"
             ],
             [
              0.8888888888888888,
              "#fdca26"
             ],
             [
              1,
              "#f0f921"
             ]
            ],
            "type": "histogram2d"
           }
          ],
          "histogram2dcontour": [
           {
            "colorbar": {
             "outlinewidth": 0,
             "ticks": ""
            },
            "colorscale": [
             [
              0,
              "#0d0887"
             ],
             [
              0.1111111111111111,
              "#46039f"
             ],
             [
              0.2222222222222222,
              "#7201a8"
             ],
             [
              0.3333333333333333,
              "#9c179e"
             ],
             [
              0.4444444444444444,
              "#bd3786"
             ],
             [
              0.5555555555555556,
              "#d8576b"
             ],
             [
              0.6666666666666666,
              "#ed7953"
             ],
             [
              0.7777777777777778,
              "#fb9f3a"
             ],
             [
              0.8888888888888888,
              "#fdca26"
             ],
             [
              1,
              "#f0f921"
             ]
            ],
            "type": "histogram2dcontour"
           }
          ],
          "mesh3d": [
           {
            "colorbar": {
             "outlinewidth": 0,
             "ticks": ""
            },
            "type": "mesh3d"
           }
          ],
          "parcoords": [
           {
            "line": {
             "colorbar": {
              "outlinewidth": 0,
              "ticks": ""
             }
            },
            "type": "parcoords"
           }
          ],
          "pie": [
           {
            "automargin": true,
            "type": "pie"
           }
          ],
          "scatter": [
           {
            "fillpattern": {
             "fillmode": "overlay",
             "size": 10,
             "solidity": 0.2
            },
            "type": "scatter"
           }
          ],
          "scatter3d": [
           {
            "line": {
             "colorbar": {
              "outlinewidth": 0,
              "ticks": ""
             }
            },
            "marker": {
             "colorbar": {
              "outlinewidth": 0,
              "ticks": ""
             }
            },
            "type": "scatter3d"
           }
          ],
          "scattercarpet": [
           {
            "marker": {
             "colorbar": {
              "outlinewidth": 0,
              "ticks": ""
             }
            },
            "type": "scattercarpet"
           }
          ],
          "scattergeo": [
           {
            "marker": {
             "colorbar": {
              "outlinewidth": 0,
              "ticks": ""
             }
            },
            "type": "scattergeo"
           }
          ],
          "scattergl": [
           {
            "marker": {
             "colorbar": {
              "outlinewidth": 0,
              "ticks": ""
             }
            },
            "type": "scattergl"
           }
          ],
          "scattermapbox": [
           {
            "marker": {
             "colorbar": {
              "outlinewidth": 0,
              "ticks": ""
             }
            },
            "type": "scattermapbox"
           }
          ],
          "scatterpolar": [
           {
            "marker": {
             "colorbar": {
              "outlinewidth": 0,
              "ticks": ""
             }
            },
            "type": "scatterpolar"
           }
          ],
          "scatterpolargl": [
           {
            "marker": {
             "colorbar": {
              "outlinewidth": 0,
              "ticks": ""
             }
            },
            "type": "scatterpolargl"
           }
          ],
          "scatterternary": [
           {
            "marker": {
             "colorbar": {
              "outlinewidth": 0,
              "ticks": ""
             }
            },
            "type": "scatterternary"
           }
          ],
          "surface": [
           {
            "colorbar": {
             "outlinewidth": 0,
             "ticks": ""
            },
            "colorscale": [
             [
              0,
              "#0d0887"
             ],
             [
              0.1111111111111111,
              "#46039f"
             ],
             [
              0.2222222222222222,
              "#7201a8"
             ],
             [
              0.3333333333333333,
              "#9c179e"
             ],
             [
              0.4444444444444444,
              "#bd3786"
             ],
             [
              0.5555555555555556,
              "#d8576b"
             ],
             [
              0.6666666666666666,
              "#ed7953"
             ],
             [
              0.7777777777777778,
              "#fb9f3a"
             ],
             [
              0.8888888888888888,
              "#fdca26"
             ],
             [
              1,
              "#f0f921"
             ]
            ],
            "type": "surface"
           }
          ],
          "table": [
           {
            "cells": {
             "fill": {
              "color": "#EBF0F8"
             },
             "line": {
              "color": "white"
             }
            },
            "header": {
             "fill": {
              "color": "#C8D4E3"
             },
             "line": {
              "color": "white"
             }
            },
            "type": "table"
           }
          ]
         },
         "layout": {
          "annotationdefaults": {
           "arrowcolor": "#2a3f5f",
           "arrowhead": 0,
           "arrowwidth": 1
          },
          "autotypenumbers": "strict",
          "coloraxis": {
           "colorbar": {
            "outlinewidth": 0,
            "ticks": ""
           }
          },
          "colorscale": {
           "diverging": [
            [
             0,
             "#8e0152"
            ],
            [
             0.1,
             "#c51b7d"
            ],
            [
             0.2,
             "#de77ae"
            ],
            [
             0.3,
             "#f1b6da"
            ],
            [
             0.4,
             "#fde0ef"
            ],
            [
             0.5,
             "#f7f7f7"
            ],
            [
             0.6,
             "#e6f5d0"
            ],
            [
             0.7,
             "#b8e186"
            ],
            [
             0.8,
             "#7fbc41"
            ],
            [
             0.9,
             "#4d9221"
            ],
            [
             1,
             "#276419"
            ]
           ],
           "sequential": [
            [
             0,
             "#0d0887"
            ],
            [
             0.1111111111111111,
             "#46039f"
            ],
            [
             0.2222222222222222,
             "#7201a8"
            ],
            [
             0.3333333333333333,
             "#9c179e"
            ],
            [
             0.4444444444444444,
             "#bd3786"
            ],
            [
             0.5555555555555556,
             "#d8576b"
            ],
            [
             0.6666666666666666,
             "#ed7953"
            ],
            [
             0.7777777777777778,
             "#fb9f3a"
            ],
            [
             0.8888888888888888,
             "#fdca26"
            ],
            [
             1,
             "#f0f921"
            ]
           ],
           "sequentialminus": [
            [
             0,
             "#0d0887"
            ],
            [
             0.1111111111111111,
             "#46039f"
            ],
            [
             0.2222222222222222,
             "#7201a8"
            ],
            [
             0.3333333333333333,
             "#9c179e"
            ],
            [
             0.4444444444444444,
             "#bd3786"
            ],
            [
             0.5555555555555556,
             "#d8576b"
            ],
            [
             0.6666666666666666,
             "#ed7953"
            ],
            [
             0.7777777777777778,
             "#fb9f3a"
            ],
            [
             0.8888888888888888,
             "#fdca26"
            ],
            [
             1,
             "#f0f921"
            ]
           ]
          },
          "colorway": [
           "#636efa",
           "#EF553B",
           "#00cc96",
           "#ab63fa",
           "#FFA15A",
           "#19d3f3",
           "#FF6692",
           "#B6E880",
           "#FF97FF",
           "#FECB52"
          ],
          "font": {
           "color": "#2a3f5f"
          },
          "geo": {
           "bgcolor": "white",
           "lakecolor": "white",
           "landcolor": "#E5ECF6",
           "showlakes": true,
           "showland": true,
           "subunitcolor": "white"
          },
          "hoverlabel": {
           "align": "left"
          },
          "hovermode": "closest",
          "mapbox": {
           "style": "light"
          },
          "paper_bgcolor": "white",
          "plot_bgcolor": "#E5ECF6",
          "polar": {
           "angularaxis": {
            "gridcolor": "white",
            "linecolor": "white",
            "ticks": ""
           },
           "bgcolor": "#E5ECF6",
           "radialaxis": {
            "gridcolor": "white",
            "linecolor": "white",
            "ticks": ""
           }
          },
          "scene": {
           "xaxis": {
            "backgroundcolor": "#E5ECF6",
            "gridcolor": "white",
            "gridwidth": 2,
            "linecolor": "white",
            "showbackground": true,
            "ticks": "",
            "zerolinecolor": "white"
           },
           "yaxis": {
            "backgroundcolor": "#E5ECF6",
            "gridcolor": "white",
            "gridwidth": 2,
            "linecolor": "white",
            "showbackground": true,
            "ticks": "",
            "zerolinecolor": "white"
           },
           "zaxis": {
            "backgroundcolor": "#E5ECF6",
            "gridcolor": "white",
            "gridwidth": 2,
            "linecolor": "white",
            "showbackground": true,
            "ticks": "",
            "zerolinecolor": "white"
           }
          },
          "shapedefaults": {
           "line": {
            "color": "#2a3f5f"
           }
          },
          "ternary": {
           "aaxis": {
            "gridcolor": "white",
            "linecolor": "white",
            "ticks": ""
           },
           "baxis": {
            "gridcolor": "white",
            "linecolor": "white",
            "ticks": ""
           },
           "bgcolor": "#E5ECF6",
           "caxis": {
            "gridcolor": "white",
            "linecolor": "white",
            "ticks": ""
           }
          },
          "title": {
           "x": 0.05
          },
          "xaxis": {
           "automargin": true,
           "gridcolor": "white",
           "linecolor": "white",
           "ticks": "",
           "title": {
            "standoff": 15
           },
           "zerolinecolor": "white",
           "zerolinewidth": 2
          },
          "yaxis": {
           "automargin": true,
           "gridcolor": "white",
           "linecolor": "white",
           "ticks": "",
           "title": {
            "standoff": 15
           },
           "zerolinecolor": "white",
           "zerolinewidth": 2
          }
         }
        },
        "width": 1200,
        "xaxis": {
         "anchor": "y",
         "categoryorder": "total descending",
         "domain": [
          0,
          1
         ],
         "title": {
          "text": "artistName"
         }
        },
        "yaxis": {
         "anchor": "x",
         "domain": [
          0,
          1
         ],
         "title": {
          "text": "Count"
         }
        }
       }
      }
     },
     "metadata": {},
     "output_type": "display_data"
    }
   ],
   "source": [
    "pFrequentArtist = px.bar(top_20_artists, x=\"artistName\", y=\"Count\", width=1200, height=800)\n",
    "pFrequentArtist.update_layout(xaxis={'categoryorder':'total descending'})\n",
    "\n",
    "pFrequentArtist"
   ]
  },
  {
   "cell_type": "code",
   "execution_count": 12,
   "id": "e4d9ccb8-9ed6-431d-b753-280eef16e296",
   "metadata": {},
   "outputs": [
    {
     "data": {
      "image/png": "[encoded data removed]",
      "text/plain": [
       "<Figure size 1080x432 with 1 Axes>"
      ]
     },
     "metadata": {
      "needs_background": "light"
     },
     "output_type": "display_data"
    }
   ],
   "source": [
    "plt.figure(figsize=(15,6))\n",
    "artist_popularity = sns.barplot(x=user_track_data['artistName'], y=user_track_data['artist_pop'])\n",
    "artist_popularity.set_xticklabels(artist_popularity.get_xticklabels(), rotation=90);\n",
    "# Order"
   ]
  },
  {
   "cell_type": "code",
   "execution_count": 13,
   "id": "7d4db17b",
   "metadata": {},
   "outputs": [
    {
     "data": {
      "application/vnd.plotly.v1+json": {
       "config": {
        "plotlyServerURL": "https://plot.ly"
       },
       "data": [
        {
         "alignmentgroup": "True",
         "hovertemplate": "artistName=%{x}<br>artist_pop=%{marker.color}<extra></extra>",
         "legendgroup": "",
         "marker": {
          "color": [
           92,
           88,
           87,
           86,
           86,
           84,
           83,
           82,
           82,
           81,
           53,
           53,
           51,
           50,
           50,
           49,
           48,
           45,
           43,
           24
          ],
          "coloraxis": "coloraxis",
          "pattern": {
           "shape": ""
          }
         },
         "name": "",
         "offsetgroup": "",
         "orientation": "v",
         "showlegend": false,
         "textposition": "auto",
         "type": "bar",
         "x": [
          "Ed Sheeran",
          "Harry Styles",
          "Dua Lipa",
          "Calvin Harris",
          "Adele",
          "Tiësto",
          "OneRepublic",
          "Ellie Goulding",
          "P!nk",
          "Black Eyed Peas",
          "Junior Senior",
          "Deniece Williams",
          "M People",
          "Blonde",
          "Dario G",
          "Aktive",
          "Mario Fresh",
          "Artful Dodger",
          "Reef",
          "Maxim"
         ],
         "xaxis": "x",
         "y": [
          92,
          88,
          87,
          86,
          86,
          84,
          83,
          82,
          82,
          81,
          53,
          53,
          51,
          50,
          50,
          49,
          48,
          45,
          43,
          24
         ],
         "yaxis": "y"
        }
       ],
       "layout": {
        "barmode": "relative",
        "coloraxis": {
         "colorbar": {
          "title": {
           "text": "artist_pop"
          }
         },
         "colorscale": [
          [
           0,
           "#0d0887"
          ],
          [
           0.1111111111111111,
           "#46039f"
          ],
          [
           0.2222222222222222,
           "#7201a8"
          ],
          [
           0.3333333333333333,
           "#9c179e"
          ],
          [
           0.4444444444444444,
           "#bd3786"
          ],
          [
           0.5555555555555556,
           "#d8576b"
          ],
          [
           0.6666666666666666,
           "#ed7953"
          ],
          [
           0.7777777777777778,
           "#fb9f3a"
          ],
          [
           0.8888888888888888,
           "#fdca26"
          ],
          [
           1,
           "#f0f921"
          ]
         ]
        },
        "height": 800,
        "legend": {
         "tracegroupgap": 0
        },
        "margin": {
         "t": 60
        },
        "template": {
         "data": {
          "bar": [
           {
            "error_x": {
             "color": "#2a3f5f"
            },
            "error_y": {
             "color": "#2a3f5f"
            },
            "marker": {
             "line": {
              "color": "#E5ECF6",
              "width": 0.5
             },
             "pattern": {
              "fillmode": "overlay",
              "size": 10,
              "solidity": 0.2
             }
            },
            "type": "bar"
           }
          ],
          "barpolar": [
           {
            "marker": {
             "line": {
              "color": "#E5ECF6",
              "width": 0.5
             },
             "pattern": {
              "fillmode": "overlay",
              "size": 10,
              "solidity": 0.2
             }
            },
            "type": "barpolar"
           }
          ],
          "carpet": [
           {
            "aaxis": {
             "endlinecolor": "#2a3f5f",
             "gridcolor": "white",
             "linecolor": "white",
             "minorgridcolor": "white",
             "startlinecolor": "#2a3f5f"
            },
            "baxis": {
             "endlinecolor": "#2a3f5f",
             "gridcolor": "white",
             "linecolor": "white",
             "minorgridcolor": "white",
             "startlinecolor": "#2a3f5f"
            },
            "type": "carpet"
           }
          ],
          "choropleth": [
           {
            "colorbar": {
             "outlinewidth": 0,
             "ticks": ""
            },
            "type": "choropleth"
           }
          ],
          "contour": [
           {
            "colorbar": {
             "outlinewidth": 0,
             "ticks": ""
            },
            "colorscale": [
             [
              0,
              "#0d0887"
             ],
             [
              0.1111111111111111,
              "#46039f"
             ],
             [
              0.2222222222222222,
              "#7201a8"
             ],
             [
              0.3333333333333333,
              "#9c179e"
             ],
             [
              0.4444444444444444,
              "#bd3786"
             ],
             [
              0.5555555555555556,
              "#d8576b"
             ],
             [
              0.6666666666666666,
              "#ed7953"
             ],
             [
              0.7777777777777778,
              "#fb9f3a"
             ],
             [
              0.8888888888888888,
              "#fdca26"
             ],
             [
              1,
              "#f0f921"
             ]
            ],
            "type": "contour"
           }
          ],
          "contourcarpet": [
           {
            "colorbar": {
             "outlinewidth": 0,
             "ticks": ""
            },
            "type": "contourcarpet"
           }
          ],
          "heatmap": [
           {
            "colorbar": {
             "outlinewidth": 0,
             "ticks": ""
            },
            "colorscale": [
             [
              0,
              "#0d0887"
             ],
             [
              0.1111111111111111,
              "#46039f"
             ],
             [
              0.2222222222222222,
              "#7201a8"
             ],
             [
              0.3333333333333333,
              "#9c179e"
             ],
             [
              0.4444444444444444,
              "#bd3786"
             ],
             [
              0.5555555555555556,
              "#d8576b"
             ],
             [
              0.6666666666666666,
              "#ed7953"
             ],
             [
              0.7777777777777778,
              "#fb9f3a"
             ],
             [
              0.8888888888888888,
              "#fdca26"
             ],
             [
              1,
              "#f0f921"
             ]
            ],
            "type": "heatmap"
           }
          ],
          "heatmapgl": [
           {
            "colorbar": {
             "outlinewidth": 0,
             "ticks": ""
            },
            "colorscale": [
             [
              0,
              "#0d0887"
             ],
             [
              0.1111111111111111,
              "#46039f"
             ],
             [
              0.2222222222222222,
              "#7201a8"
             ],
             [
              0.3333333333333333,
              "#9c179e"
             ],
             [
              0.4444444444444444,
              "#bd3786"
             ],
             [
              0.5555555555555556,
              "#d8576b"
             ],
             [
              0.6666666666666666,
              "#ed7953"
             ],
             [
              0.7777777777777778,
              "#fb9f3a"
             ],
             [
              0.8888888888888888,
              "#fdca26"
             ],
             [
              1,
              "#f0f921"
             ]
            ],
            "type": "heatmapgl"
           }
          ],
          "histogram": [
           {
            "marker": {
             "pattern": {
              "fillmode": "overlay",
              "size": 10,
              "solidity": 0.2
             }
            },
            "type": "histogram"
           }
          ],
          "histogram2d": [
           {
            "colorbar": {
             "outlinewidth": 0,
             "ticks": ""
            },
            "colorscale": [
             [
              0,
              "#0d0887"
             ],
             [
              0.1111111111111111,
              "#46039f"
             ],
             [
              0.2222222222222222,
              "#7201a8"
             ],
             [
              0.3333333333333333,
              "#9c179e"
             ],
             [
              0.4444444444444444,
              "#bd3786"
             ],
             [
              0.5555555555555556,
              "#d8576b"
             ],
             [
              0.6666666666666666,
              "#ed7953"
             ],
             [
              0.7777777777777778,
              "#fb9f3a"
             ],
             [
              0.8888888888888888,
              "#fdca26"
             ],
             [
              1,
              "#f0f921"
             ]
            ],
            "type": "histogram2d"
           }
          ],
          "histogram2dcontour": [
           {
            "colorbar": {
             "outlinewidth": 0,
             "ticks": ""
            },
            "colorscale": [
             [
              0,
              "#0d0887"
             ],
             [
              0.1111111111111111,
              "#46039f"
             ],
             [
              0.2222222222222222,
              "#7201a8"
             ],
             [
              0.3333333333333333,
              "#9c179e"
             ],
             [
              0.4444444444444444,
              "#bd3786"
             ],
             [
              0.5555555555555556,
              "#d8576b"
             ],
             [
              0.6666666666666666,
              "#ed7953"
             ],
             [
              0.7777777777777778,
              "#fb9f3a"
             ],
             [
              0.8888888888888888,
              "#fdca26"
             ],
             [
              1,
              "#f0f921"
             ]
            ],
            "type": "histogram2dcontour"
           }
          ],
          "mesh3d": [
           {
            "colorbar": {
             "outlinewidth": 0,
             "ticks": ""
            },
            "type": "mesh3d"
           }
          ],
          "parcoords": [
           {
            "line": {
             "colorbar": {
              "outlinewidth": 0,
              "ticks": ""
             }
            },
            "type": "parcoords"
           }
          ],
          "pie": [
           {
            "automargin": true,
            "type": "pie"
           }
          ],
          "scatter": [
           {
            "fillpattern": {
             "fillmode": "overlay",
             "size": 10,
             "solidity": 0.2
            },
            "type": "scatter"
           }
          ],
          "scatter3d": [
           {
            "line": {
             "colorbar": {
              "outlinewidth": 0,
              "ticks": ""
             }
            },
            "marker": {
             "colorbar": {
              "outlinewidth": 0,
              "ticks": ""
             }
            },
            "type": "scatter3d"
           }
          ],
          "scattercarpet": [
           {
            "marker": {
             "colorbar": {
              "outlinewidth": 0,
              "ticks": ""
             }
            },
            "type": "scattercarpet"
           }
          ],
          "scattergeo": [
           {
            "marker": {
             "colorbar": {
              "outlinewidth": 0,
              "ticks": ""
             }
            },
            "type": "scattergeo"
           }
          ],
          "scattergl": [
           {
            "marker": {
             "colorbar": {
              "outlinewidth": 0,
              "ticks": ""
             }
            },
            "type": "scattergl"
           }
          ],
          "scattermapbox": [
           {
            "marker": {
             "colorbar": {
              "outlinewidth": 0,
              "ticks": ""
             }
            },
            "type": "scattermapbox"
           }
          ],
          "scatterpolar": [
           {
            "marker": {
             "colorbar": {
              "outlinewidth": 0,
              "ticks": ""
             }
            },
            "type": "scatterpolar"
           }
          ],
          "scatterpolargl": [
           {
            "marker": {
             "colorbar": {
              "outlinewidth": 0,
              "ticks": ""
             }
            },
            "type": "scatterpolargl"
           }
          ],
          "scatterternary": [
           {
            "marker": {
             "colorbar": {
              "outlinewidth": 0,
              "ticks": ""
             }
            },
            "type": "scatterternary"
           }
          ],
          "surface": [
           {
            "colorbar": {
             "outlinewidth": 0,
             "ticks": ""
            },
            "colorscale": [
             [
              0,
              "#0d0887"
             ],
             [
              0.1111111111111111,
              "#46039f"
             ],
             [
              0.2222222222222222,
              "#7201a8"
             ],
             [
              0.3333333333333333,
              "#9c179e"
             ],
             [
              0.4444444444444444,
              "#bd3786"
             ],
             [
              0.5555555555555556,
              "#d8576b"
             ],
             [
              0.6666666666666666,
              "#ed7953"
             ],
             [
              0.7777777777777778,
              "#fb9f3a"
             ],
             [
              0.8888888888888888,
              "#fdca26"
             ],
             [
              1,
              "#f0f921"
             ]
            ],
            "type": "surface"
           }
          ],
          "table": [
           {
            "cells": {
             "fill": {
              "color": "#EBF0F8"
             },
             "line": {
              "color": "white"
             }
            },
            "header": {
             "fill": {
              "color": "#C8D4E3"
             },
             "line": {
              "color": "white"
             }
            },
            "type": "table"
           }
          ]
         },
         "layout": {
          "annotationdefaults": {
           "arrowcolor": "#2a3f5f",
           "arrowhead": 0,
           "arrowwidth": 1
          },
          "autotypenumbers": "strict",
          "coloraxis": {
           "colorbar": {
            "outlinewidth": 0,
            "ticks": ""
           }
          },
          "colorscale": {
           "diverging": [
            [
             0,
             "#8e0152"
            ],
            [
             0.1,
             "#c51b7d"
            ],
            [
             0.2,
             "#de77ae"
            ],
            [
             0.3,
             "#f1b6da"
            ],
            [
             0.4,
             "#fde0ef"
            ],
            [
             0.5,
             "#f7f7f7"
            ],
            [
             0.6,
             "#e6f5d0"
            ],
            [
             0.7,
             "#b8e186"
            ],
            [
             0.8,
             "#7fbc41"
            ],
            [
             0.9,
             "#4d9221"
            ],
            [
             1,
             "#276419"
            ]
           ],
           "sequential": [
            [
             0,
             "#0d0887"
            ],
            [
             0.1111111111111111,
             "#46039f"
            ],
            [
             0.2222222222222222,
             "#7201a8"
            ],
            [
             0.3333333333333333,
             "#9c179e"
            ],
            [
             0.4444444444444444,
             "#bd3786"
            ],
            [
             0.5555555555555556,
             "#d8576b"
            ],
            [
             0.6666666666666666,
             "#ed7953"
            ],
            [
             0.7777777777777778,
             "#fb9f3a"
            ],
            [
             0.8888888888888888,
             "#fdca26"
            ],
            [
             1,
             "#f0f921"
            ]
           ],
           "sequentialminus": [
            [
             0,
             "#0d0887"
            ],
            [
             0.1111111111111111,
             "#46039f"
            ],
            [
             0.2222222222222222,
             "#7201a8"
            ],
            [
             0.3333333333333333,
             "#9c179e"
            ],
            [
             0.4444444444444444,
             "#bd3786"
            ],
            [
             0.5555555555555556,
             "#d8576b"
            ],
            [
             0.6666666666666666,
             "#ed7953"
            ],
            [
             0.7777777777777778,
             "#fb9f3a"
            ],
            [
             0.8888888888888888,
             "#fdca26"
            ],
            [
             1,
             "#f0f921"
            ]
           ]
          },
          "colorway": [
           "#636efa",
           "#EF553B",
           "#00cc96",
           "#ab63fa",
           "#FFA15A",
           "#19d3f3",
           "#FF6692",
           "#B6E880",
           "#FF97FF",
           "#FECB52"
          ],
          "font": {
           "color": "#2a3f5f"
          },
          "geo": {
           "bgcolor": "white",
           "lakecolor": "white",
           "landcolor": "#E5ECF6",
           "showlakes": true,
           "showland": true,
           "subunitcolor": "white"
          },
          "hoverlabel": {
           "align": "left"
          },
          "hovermode": "closest",
          "mapbox": {
           "style": "light"
          },
          "paper_bgcolor": "white",
          "plot_bgcolor": "#E5ECF6",
          "polar": {
           "angularaxis": {
            "gridcolor": "white",
            "linecolor": "white",
            "ticks": ""
           },
           "bgcolor": "#E5ECF6",
           "radialaxis": {
            "gridcolor": "white",
            "linecolor": "white",
            "ticks": ""
           }
          },
          "scene": {
           "xaxis": {
            "backgroundcolor": "#E5ECF6",
            "gridcolor": "white",
            "gridwidth": 2,
            "linecolor": "white",
            "showbackground": true,
            "ticks": "",
            "zerolinecolor": "white"
           },
           "yaxis": {
            "backgroundcolor": "#E5ECF6",
            "gridcolor": "white",
            "gridwidth": 2,
            "linecolor": "white",
            "showbackground": true,
            "ticks": "",
            "zerolinecolor": "white"
           },
           "zaxis": {
            "backgroundcolor": "#E5ECF6",
            "gridcolor": "white",
            "gridwidth": 2,
            "linecolor": "white",
            "showbackground": true,
            "ticks": "",
            "zerolinecolor": "white"
           }
          },
          "shapedefaults": {
           "line": {
            "color": "#2a3f5f"
           }
          },
          "ternary": {
           "aaxis": {
            "gridcolor": "white",
            "linecolor": "white",
            "ticks": ""
           },
           "baxis": {
            "gridcolor": "white",
            "linecolor": "white",
            "ticks": ""
           },
           "bgcolor": "#E5ECF6",
           "caxis": {
            "gridcolor": "white",
            "linecolor": "white",
            "ticks": ""
           }
          },
          "title": {
           "x": 0.05
          },
          "xaxis": {
           "automargin": true,
           "gridcolor": "white",
           "linecolor": "white",
           "ticks": "",
           "title": {
            "standoff": 15
           },
           "zerolinecolor": "white",
           "zerolinewidth": 2
          },
          "yaxis": {
           "automargin": true,
           "gridcolor": "white",
           "linecolor": "white",
           "ticks": "",
           "title": {
            "standoff": 15
           },
           "zerolinecolor": "white",
           "zerolinewidth": 2
          }
         }
        },
        "width": 1200,
        "xaxis": {
         "anchor": "y",
         "categoryorder": "total descending",
         "domain": [
          0,
          1
         ],
         "title": {
          "text": "artistName"
         }
        },
        "yaxis": {
         "anchor": "x",
         "domain": [
          0,
          1
         ],
         "title": {
          "text": "artist_pop"
         }
        }
       }
      }
     },
     "metadata": {},
     "output_type": "display_data"
    }
   ],
   "source": [
    "pArtistPop = px.bar(popularity_score_artist, x=\"artistName\", y=\"artist_pop\", width=1200, height=800, color=\"artist_pop\")\n",
    "pArtistPop.update_layout(xaxis={'categoryorder':'total descending'})\n",
    "\n",
    "pArtistPop"
   ]
  },
  {
   "cell_type": "code",
   "execution_count": 14,
   "id": "db2d29ce-9f6a-4fb5-9755-46fe53bd9c99",
   "metadata": {},
   "outputs": [
    {
     "data": {
      "text/plain": [
       "Index(['endTime', 'artistName', 'trackName', 'msPlayed', 'track_id',\n",
       "       'artist_name_track', 'artist_pop', 'album', 'track_pop', 'genre_0',\n",
       "       'genre_1', 'genre_2', 'genre_3', 'genre_4', 'genre_5', 'genre_6',\n",
       "       'genre_7', 'genre_8', 'danceability', 'energy', 'loudness',\n",
       "       'speechiness', 'acousticness', 'instrumentalness', 'liveness',\n",
       "       'valence', 'tempo', 'duration_ms', 'time_signature'],\n",
       "      dtype='object')"
      ]
     },
     "execution_count": 14,
     "metadata": {},
     "output_type": "execute_result"
    }
   ],
   "source": [
    "user_track_data.columns"
   ]
  },
  {
   "cell_type": "code",
   "execution_count": 15,
   "id": "e0512dbe-b80b-4e7d-a0c2-bbc9dd5ec1ef",
   "metadata": {},
   "outputs": [
    {
     "name": "stdout",
     "output_type": "stream",
     "text": [
      "The dance features are: ['danceability', 'energy', 'loudness', 'speechiness', 'acousticness', 'instrumentalness', 'liveness', 'valence', 'tempo', 'duration_ms', 'time_signature']\n"
     ]
    }
   ],
   "source": [
    "import plotly.express as px\n",
    "\n",
    "feature_1 = None\n",
    "feature_2 = None\n",
    "features = ['danceability', 'energy', 'loudness',\n",
    "       'speechiness', 'acousticness', 'instrumentalness', 'liveness',\n",
    "       'valence', 'tempo', 'duration_ms', 'time_signature']\n",
    "flag_1 = 0\n",
    "flag_2= 0\n",
    "\n",
    "print(f\"The dance features are: {features}\")\n",
    "\n",
    "while flag_1 < 1:\n",
    "    feature_1 = \"energy\" #input(\"Please enter a feature for the x axis from the list above:\").lower() \n",
    "    for feature in features:\n",
    "            if feature == feature_1:\n",
    "                flag_1 += 1\n",
    "                break\n",
    "                \n",
    "while flag_2 < 1:\n",
    "    feature_2 = \"energy\" #input(\"Please enter a feature for the y axis from the list above:\").lower() \n",
    "    for feature in features:\n",
    "            if feature == feature_2:\n",
    "                flag_2 += 1\n",
    "                break\n",
    "                \n",
    "def plot_maker(feature1, feature2):\n",
    "    if(feature1 != None):\n",
    "        if(feature2 != None):\n",
    "            customFig = px.scatter(user_track_data, x=feature_1, y=feature_2,  color=\"genre_0\", hover_data=['trackName'], width= 1200, height= 800)\n",
    "            #customFig.show()\n",
    "            return customFig\n",
    "\n",
    "customFig = plot_maker(feature_1, feature_2)  \n",
    "                "
   ]
  },
  {
   "cell_type": "code",
   "execution_count": 16,
   "id": "47af7106",
   "metadata": {},
   "outputs": [],
   "source": [
    "import requests\n",
    "from PIL import Image\n",
    "from io import BytesIO\n",
    "\n",
    "def getImage(url):\n",
    "    response = requests.get(url)\n",
    "    img = Image.open(BytesIO(response.content))\n",
    "    return img"
   ]
  },
  {
   "cell_type": "code",
   "execution_count": 17,
   "id": "f139966c-0ddd-4fa6-ab75-c983de299ac7",
   "metadata": {},
   "outputs": [
    {
     "name": "stdout",
     "output_type": "stream",
     "text": [
      "Your most popular track in the last 500 is Drunken Sailor (Sea Shanty)\n",
      "You have so far listened to it 48 times!\n",
      "The max value for column endTime is: \n",
      "2023-03-18 23:59\n",
      " \n",
      "The max value for column artistName is: \n",
      "Öwnboss\n",
      " \n",
      "The max value for column trackName is: \n",
      "Your Love (9PM)\n",
      " \n",
      "The max value for column msPlayed is: \n",
      "317222\n",
      " \n",
      "The max value for column track_id is: \n",
      "7nkkmnKIm0ENXaAAw0Bq6J\n",
      " \n",
      "The max value for column artist_name_track is: \n",
      "Öwnboss\n",
      " \n",
      "The max value for column artist_pop is: \n",
      "84\n",
      " \n",
      "The max value for column album is: \n",
      "Your Love (9PM)\n",
      " \n",
      "The max value for column track_pop is: \n",
      "86\n",
      " \n",
      "The max value for column genre_0 is: \n",
      "pop dance\n",
      " \n",
      "The max value for column danceability is: \n",
      "0.848\n",
      " \n",
      "The max value for column energy is: \n",
      "0.967\n",
      " \n",
      "The max value for column loudness is: \n",
      "-3.145\n",
      " \n",
      "The max value for column speechiness is: \n",
      "0.126\n",
      " \n",
      "The max value for column acousticness is: \n",
      "0.198\n",
      " \n",
      "The max value for column instrumentalness is: \n",
      "0.675\n",
      " \n",
      "The max value for column liveness is: \n",
      "0.481\n",
      " \n",
      "The max value for column valence is: \n",
      "0.862\n",
      " \n",
      "The max value for column tempo is: \n",
      "131.964\n",
      " \n",
      "The max value for column duration_ms is: \n",
      "241970\n",
      " \n",
      "The max value for column time_signature is: \n",
      "4\n",
      " \n",
      "The max value for column index is: \n",
      "17\n",
      " \n",
      "The max value for column Count is: \n",
      "48\n",
      " \n"
     ]
    }
   ],
   "source": [
    "# Count identical values in Column1\n",
    "counts = user_track_data['trackName'].value_counts()\n",
    "\n",
    "# Create a new dataframe with unique values and their counts\n",
    "popular_tracks = pd.DataFrame({'trackName': counts.index, 'Count': counts.values})\n",
    "\n",
    "# Sort the dataframe by count in descending order\n",
    "popular_tracks = popular_tracks.sort_values(by='Count', ascending=False)\n",
    "\n",
    "# Print the resulting dataframe\n",
    "print('Your most popular track in the last 500 is ' + str(popular_tracks.iloc[0,0]))\n",
    "print('You have so far listened to it ' + str(popular_tracks.iloc[0,1]) + ' times!')\n",
    "\n",
    "popular_tracks = popular_tracks.reset_index()\n",
    "user = user_track_data.merge(popular_tracks, on='trackName')\n",
    "#for the top feature scores, only the features for the songs played 4 times or more were considered\n",
    "user = user[user['Count']>=4]\n",
    "user.tail()\n",
    "user = user[['endTime', 'artistName', 'trackName', 'msPlayed', 'track_id','artist_name_track', 'artist_pop', 'album', 'track_pop', 'genre_0','danceability', 'energy', 'loudness','speechiness', 'acousticness', 'instrumentalness', 'liveness', 'valence', 'tempo', 'duration_ms', 'time_signature', 'index', 'Count']]\n",
    "for column in user.columns:\n",
    "    print('The max value for column ' + str(column) + ' is: ')\n",
    "    (column) = user[column].max()\n",
    "    print((column))\n",
    "    print(' ')\n",
    "\n"
   ]
  },
  {
   "cell_type": "code",
   "execution_count": 19,
   "id": "37c8797f",
   "metadata": {},
   "outputs": [
    {
     "name": "stdout",
     "output_type": "stream",
     "text": [
      "Song with most miliseconds played:\n"
     ]
    },
    {
     "ename": "ConnectionError",
     "evalue": "HTTPSConnectionPool(host='accounts.spotify.com', port=443): Max retries exceeded with url: /api/token (Caused by NewConnectionError('<urllib3.connection.HTTPSConnection object at 0x000001FD069ECD00>: Failed to establish a new connection: [WinError 10060] A connection attempt failed because the connected party did not properly respond after a period of time, or established connection failed because connected host has failed to respond'))",
     "output_type": "error",
     "traceback": [
      "\u001b[1;31m---------------------------------------------------------------------------\u001b[0m",
      "\u001b[1;31mTimeoutError\u001b[0m                              Traceback (most recent call last)",
      "File \u001b[1;32m~\\AppData\\Roaming\\Python\\Python39\\site-packages\\urllib3\\connection.py:174\u001b[0m, in \u001b[0;36mHTTPConnection._new_conn\u001b[1;34m(self)\u001b[0m\n\u001b[0;32m    173\u001b[0m \u001b[39mtry\u001b[39;00m:\n\u001b[1;32m--> 174\u001b[0m     conn \u001b[39m=\u001b[39m connection\u001b[39m.\u001b[39mcreate_connection(\n\u001b[0;32m    175\u001b[0m         (\u001b[39mself\u001b[39m\u001b[39m.\u001b[39m_dns_host, \u001b[39mself\u001b[39m\u001b[39m.\u001b[39mport), \u001b[39mself\u001b[39m\u001b[39m.\u001b[39mtimeout, \u001b[39m*\u001b[39m\u001b[39m*\u001b[39mextra_kw\n\u001b[0;32m    176\u001b[0m     )\n\u001b[0;32m    178\u001b[0m \u001b[39mexcept\u001b[39;00m SocketTimeout:\n",
      "File \u001b[1;32m~\\AppData\\Roaming\\Python\\Python39\\site-packages\\urllib3\\util\\connection.py:95\u001b[0m, in \u001b[0;36mcreate_connection\u001b[1;34m(address, timeout, source_address, socket_options)\u001b[0m\n\u001b[0;32m     94\u001b[0m \u001b[39mif\u001b[39;00m err \u001b[39mis\u001b[39;00m \u001b[39mnot\u001b[39;00m \u001b[39mNone\u001b[39;00m:\n\u001b[1;32m---> 95\u001b[0m     \u001b[39mraise\u001b[39;00m err\n\u001b[0;32m     97\u001b[0m \u001b[39mraise\u001b[39;00m socket\u001b[39m.\u001b[39merror(\u001b[39m\"\u001b[39m\u001b[39mgetaddrinfo returns an empty list\u001b[39m\u001b[39m\"\u001b[39m)\n",
      "File \u001b[1;32m~\\AppData\\Roaming\\Python\\Python39\\site-packages\\urllib3\\util\\connection.py:85\u001b[0m, in \u001b[0;36mcreate_connection\u001b[1;34m(address, timeout, source_address, socket_options)\u001b[0m\n\u001b[0;32m     84\u001b[0m     sock\u001b[39m.\u001b[39mbind(source_address)\n\u001b[1;32m---> 85\u001b[0m sock\u001b[39m.\u001b[39;49mconnect(sa)\n\u001b[0;32m     86\u001b[0m \u001b[39mreturn\u001b[39;00m sock\n",
      "\u001b[1;31mTimeoutError\u001b[0m: [WinError 10060] A connection attempt failed because the connected party did not properly respond after a period of time, or established connection failed because connected host has failed to respond",
      "\nDuring handling of the above exception, another exception occurred:\n",
      "\u001b[1;31mNewConnectionError\u001b[0m                        Traceback (most recent call last)",
      "File \u001b[1;32m~\\AppData\\Roaming\\Python\\Python39\\site-packages\\urllib3\\connectionpool.py:703\u001b[0m, in \u001b[0;36mHTTPConnectionPool.urlopen\u001b[1;34m(self, method, url, body, headers, retries, redirect, assert_same_host, timeout, pool_timeout, release_conn, chunked, body_pos, **response_kw)\u001b[0m\n\u001b[0;32m    702\u001b[0m \u001b[39m# Make the request on the httplib connection object.\u001b[39;00m\n\u001b[1;32m--> 703\u001b[0m httplib_response \u001b[39m=\u001b[39m \u001b[39mself\u001b[39;49m\u001b[39m.\u001b[39;49m_make_request(\n\u001b[0;32m    704\u001b[0m     conn,\n\u001b[0;32m    705\u001b[0m     method,\n\u001b[0;32m    706\u001b[0m     url,\n\u001b[0;32m    707\u001b[0m     timeout\u001b[39m=\u001b[39;49mtimeout_obj,\n\u001b[0;32m    708\u001b[0m     body\u001b[39m=\u001b[39;49mbody,\n\u001b[0;32m    709\u001b[0m     headers\u001b[39m=\u001b[39;49mheaders,\n\u001b[0;32m    710\u001b[0m     chunked\u001b[39m=\u001b[39;49mchunked,\n\u001b[0;32m    711\u001b[0m )\n\u001b[0;32m    713\u001b[0m \u001b[39m# If we're going to release the connection in ``finally:``, then\u001b[39;00m\n\u001b[0;32m    714\u001b[0m \u001b[39m# the response doesn't need to know about the connection. Otherwise\u001b[39;00m\n\u001b[0;32m    715\u001b[0m \u001b[39m# it will also try to release it and we'll have a double-release\u001b[39;00m\n\u001b[0;32m    716\u001b[0m \u001b[39m# mess.\u001b[39;00m\n",
      "File \u001b[1;32m~\\AppData\\Roaming\\Python\\Python39\\site-packages\\urllib3\\connectionpool.py:386\u001b[0m, in \u001b[0;36mHTTPConnectionPool._make_request\u001b[1;34m(self, conn, method, url, timeout, chunked, **httplib_request_kw)\u001b[0m\n\u001b[0;32m    385\u001b[0m \u001b[39mtry\u001b[39;00m:\n\u001b[1;32m--> 386\u001b[0m     \u001b[39mself\u001b[39;49m\u001b[39m.\u001b[39;49m_validate_conn(conn)\n\u001b[0;32m    387\u001b[0m \u001b[39mexcept\u001b[39;00m (SocketTimeout, BaseSSLError) \u001b[39mas\u001b[39;00m e:\n\u001b[0;32m    388\u001b[0m     \u001b[39m# Py2 raises this as a BaseSSLError, Py3 raises it as socket timeout.\u001b[39;00m\n",
      "File \u001b[1;32m~\\AppData\\Roaming\\Python\\Python39\\site-packages\\urllib3\\connectionpool.py:1040\u001b[0m, in \u001b[0;36mHTTPSConnectionPool._validate_conn\u001b[1;34m(self, conn)\u001b[0m\n\u001b[0;32m   1039\u001b[0m \u001b[39mif\u001b[39;00m \u001b[39mnot\u001b[39;00m \u001b[39mgetattr\u001b[39m(conn, \u001b[39m\"\u001b[39m\u001b[39msock\u001b[39m\u001b[39m\"\u001b[39m, \u001b[39mNone\u001b[39;00m):  \u001b[39m# AppEngine might not have  `.sock`\u001b[39;00m\n\u001b[1;32m-> 1040\u001b[0m     conn\u001b[39m.\u001b[39;49mconnect()\n\u001b[0;32m   1042\u001b[0m \u001b[39mif\u001b[39;00m \u001b[39mnot\u001b[39;00m conn\u001b[39m.\u001b[39mis_verified:\n",
      "File \u001b[1;32m~\\AppData\\Roaming\\Python\\Python39\\site-packages\\urllib3\\connection.py:358\u001b[0m, in \u001b[0;36mHTTPSConnection.connect\u001b[1;34m(self)\u001b[0m\n\u001b[0;32m    356\u001b[0m \u001b[39mdef\u001b[39;00m \u001b[39mconnect\u001b[39m(\u001b[39mself\u001b[39m):\n\u001b[0;32m    357\u001b[0m     \u001b[39m# Add certificate verification\u001b[39;00m\n\u001b[1;32m--> 358\u001b[0m     \u001b[39mself\u001b[39m\u001b[39m.\u001b[39msock \u001b[39m=\u001b[39m conn \u001b[39m=\u001b[39m \u001b[39mself\u001b[39;49m\u001b[39m.\u001b[39;49m_new_conn()\n\u001b[0;32m    359\u001b[0m     hostname \u001b[39m=\u001b[39m \u001b[39mself\u001b[39m\u001b[39m.\u001b[39mhost\n",
      "File \u001b[1;32m~\\AppData\\Roaming\\Python\\Python39\\site-packages\\urllib3\\connection.py:186\u001b[0m, in \u001b[0;36mHTTPConnection._new_conn\u001b[1;34m(self)\u001b[0m\n\u001b[0;32m    185\u001b[0m \u001b[39mexcept\u001b[39;00m SocketError \u001b[39mas\u001b[39;00m e:\n\u001b[1;32m--> 186\u001b[0m     \u001b[39mraise\u001b[39;00m NewConnectionError(\n\u001b[0;32m    187\u001b[0m         \u001b[39mself\u001b[39m, \u001b[39m\"\u001b[39m\u001b[39mFailed to establish a new connection: \u001b[39m\u001b[39m%s\u001b[39;00m\u001b[39m\"\u001b[39m \u001b[39m%\u001b[39m e\n\u001b[0;32m    188\u001b[0m     )\n\u001b[0;32m    190\u001b[0m \u001b[39mreturn\u001b[39;00m conn\n",
      "\u001b[1;31mNewConnectionError\u001b[0m: <urllib3.connection.HTTPSConnection object at 0x000001FD069ECD00>: Failed to establish a new connection: [WinError 10060] A connection attempt failed because the connected party did not properly respond after a period of time, or established connection failed because connected host has failed to respond",
      "\nDuring handling of the above exception, another exception occurred:\n",
      "\u001b[1;31mMaxRetryError\u001b[0m                             Traceback (most recent call last)",
      "File \u001b[1;32m~\\AppData\\Roaming\\Python\\Python39\\site-packages\\requests\\adapters.py:489\u001b[0m, in \u001b[0;36mHTTPAdapter.send\u001b[1;34m(self, request, stream, timeout, verify, cert, proxies)\u001b[0m\n\u001b[0;32m    488\u001b[0m \u001b[39mif\u001b[39;00m \u001b[39mnot\u001b[39;00m chunked:\n\u001b[1;32m--> 489\u001b[0m     resp \u001b[39m=\u001b[39m conn\u001b[39m.\u001b[39;49murlopen(\n\u001b[0;32m    490\u001b[0m         method\u001b[39m=\u001b[39;49mrequest\u001b[39m.\u001b[39;49mmethod,\n\u001b[0;32m    491\u001b[0m         url\u001b[39m=\u001b[39;49murl,\n\u001b[0;32m    492\u001b[0m         body\u001b[39m=\u001b[39;49mrequest\u001b[39m.\u001b[39;49mbody,\n\u001b[0;32m    493\u001b[0m         headers\u001b[39m=\u001b[39;49mrequest\u001b[39m.\u001b[39;49mheaders,\n\u001b[0;32m    494\u001b[0m         redirect\u001b[39m=\u001b[39;49m\u001b[39mFalse\u001b[39;49;00m,\n\u001b[0;32m    495\u001b[0m         assert_same_host\u001b[39m=\u001b[39;49m\u001b[39mFalse\u001b[39;49;00m,\n\u001b[0;32m    496\u001b[0m         preload_content\u001b[39m=\u001b[39;49m\u001b[39mFalse\u001b[39;49;00m,\n\u001b[0;32m    497\u001b[0m         decode_content\u001b[39m=\u001b[39;49m\u001b[39mFalse\u001b[39;49;00m,\n\u001b[0;32m    498\u001b[0m         retries\u001b[39m=\u001b[39;49m\u001b[39mself\u001b[39;49m\u001b[39m.\u001b[39;49mmax_retries,\n\u001b[0;32m    499\u001b[0m         timeout\u001b[39m=\u001b[39;49mtimeout,\n\u001b[0;32m    500\u001b[0m     )\n\u001b[0;32m    502\u001b[0m \u001b[39m# Send the request.\u001b[39;00m\n\u001b[0;32m    503\u001b[0m \u001b[39melse\u001b[39;00m:\n",
      "File \u001b[1;32m~\\AppData\\Roaming\\Python\\Python39\\site-packages\\urllib3\\connectionpool.py:785\u001b[0m, in \u001b[0;36mHTTPConnectionPool.urlopen\u001b[1;34m(self, method, url, body, headers, retries, redirect, assert_same_host, timeout, pool_timeout, release_conn, chunked, body_pos, **response_kw)\u001b[0m\n\u001b[0;32m    783\u001b[0m     e \u001b[39m=\u001b[39m ProtocolError(\u001b[39m\"\u001b[39m\u001b[39mConnection aborted.\u001b[39m\u001b[39m\"\u001b[39m, e)\n\u001b[1;32m--> 785\u001b[0m retries \u001b[39m=\u001b[39m retries\u001b[39m.\u001b[39;49mincrement(\n\u001b[0;32m    786\u001b[0m     method, url, error\u001b[39m=\u001b[39;49me, _pool\u001b[39m=\u001b[39;49m\u001b[39mself\u001b[39;49m, _stacktrace\u001b[39m=\u001b[39;49msys\u001b[39m.\u001b[39;49mexc_info()[\u001b[39m2\u001b[39;49m]\n\u001b[0;32m    787\u001b[0m )\n\u001b[0;32m    788\u001b[0m retries\u001b[39m.\u001b[39msleep()\n",
      "File \u001b[1;32m~\\AppData\\Roaming\\Python\\Python39\\site-packages\\urllib3\\util\\retry.py:592\u001b[0m, in \u001b[0;36mRetry.increment\u001b[1;34m(self, method, url, response, error, _pool, _stacktrace)\u001b[0m\n\u001b[0;32m    591\u001b[0m \u001b[39mif\u001b[39;00m new_retry\u001b[39m.\u001b[39mis_exhausted():\n\u001b[1;32m--> 592\u001b[0m     \u001b[39mraise\u001b[39;00m MaxRetryError(_pool, url, error \u001b[39mor\u001b[39;00m ResponseError(cause))\n\u001b[0;32m    594\u001b[0m log\u001b[39m.\u001b[39mdebug(\u001b[39m\"\u001b[39m\u001b[39mIncremented Retry for (url=\u001b[39m\u001b[39m'\u001b[39m\u001b[39m%s\u001b[39;00m\u001b[39m'\u001b[39m\u001b[39m): \u001b[39m\u001b[39m%r\u001b[39;00m\u001b[39m\"\u001b[39m, url, new_retry)\n",
      "\u001b[1;31mMaxRetryError\u001b[0m: HTTPSConnectionPool(host='accounts.spotify.com', port=443): Max retries exceeded with url: /api/token (Caused by NewConnectionError('<urllib3.connection.HTTPSConnection object at 0x000001FD069ECD00>: Failed to establish a new connection: [WinError 10060] A connection attempt failed because the connected party did not properly respond after a period of time, or established connection failed because connected host has failed to respond'))",
      "\nDuring handling of the above exception, another exception occurred:\n",
      "\u001b[1;31mConnectionError\u001b[0m                           Traceback (most recent call last)",
      "\u001b[1;32mc:\\Users\\krks347\\OneDrive - AZCollaboration\\Uni\\Y2\\S2\\software dev\\complete code\\completeCode.ipynb Cell 18\u001b[0m in \u001b[0;36m<cell line: 2>\u001b[1;34m()\u001b[0m\n\u001b[0;32m      <a href='vscode-notebook-cell:/c%3A/Users/krks347/OneDrive%20-%20AZCollaboration/Uni/Y2/S2/software%20dev/complete%20code/completeCode.ipynb#X23sZmlsZQ%3D%3D?line=6'>7</a>\u001b[0m f\u001b[39m.\u001b[39mwrite(\u001b[39m'\u001b[39m\u001b[39mSong with most miliseconds played:\u001b[39m\u001b[39m'\u001b[39m)\n\u001b[0;32m      <a href='vscode-notebook-cell:/c%3A/Users/krks347/OneDrive%20-%20AZCollaboration/Uni/Y2/S2/software%20dev/complete%20code/completeCode.ipynb#X23sZmlsZQ%3D%3D?line=7'>8</a>\u001b[0m msPlayed_max \u001b[39m=\u001b[39m user[user[\u001b[39m'\u001b[39m\u001b[39mmsPlayed\u001b[39m\u001b[39m'\u001b[39m] \u001b[39m==\u001b[39m user[\u001b[39m'\u001b[39m\u001b[39mmsPlayed\u001b[39m\u001b[39m'\u001b[39m]\u001b[39m.\u001b[39mmax()]\u001b[39m.\u001b[39mreset_index()\n\u001b[1;32m---> <a href='vscode-notebook-cell:/c%3A/Users/krks347/OneDrive%20-%20AZCollaboration/Uni/Y2/S2/software%20dev/complete%20code/completeCode.ipynb#X23sZmlsZQ%3D%3D?line=9'>10</a>\u001b[0m ms_played_track_info \u001b[39m=\u001b[39m sp\u001b[39m.\u001b[39;49mtrack(msPlayed_max[\u001b[39m'\u001b[39;49m\u001b[39mtrack_id\u001b[39;49m\u001b[39m'\u001b[39;49m]\u001b[39m.\u001b[39;49mvalues[\u001b[39m0\u001b[39;49m])\n\u001b[0;32m     <a href='vscode-notebook-cell:/c%3A/Users/krks347/OneDrive%20-%20AZCollaboration/Uni/Y2/S2/software%20dev/complete%20code/completeCode.ipynb#X23sZmlsZQ%3D%3D?line=10'>11</a>\u001b[0m ms_played_artwork_url \u001b[39m=\u001b[39m ms_played_track_info[\u001b[39m'\u001b[39m\u001b[39malbum\u001b[39m\u001b[39m'\u001b[39m][\u001b[39m'\u001b[39m\u001b[39mimages\u001b[39m\u001b[39m'\u001b[39m][\u001b[39m1\u001b[39m][\u001b[39m'\u001b[39m\u001b[39murl\u001b[39m\u001b[39m'\u001b[39m]\n\u001b[0;32m     <a href='vscode-notebook-cell:/c%3A/Users/krks347/OneDrive%20-%20AZCollaboration/Uni/Y2/S2/software%20dev/complete%20code/completeCode.ipynb#X23sZmlsZQ%3D%3D?line=11'>12</a>\u001b[0m art1 \u001b[39m=\u001b[39m getImage(ms_played_artwork_url)\n",
      "File \u001b[1;32m~\\AppData\\Roaming\\Python\\Python39\\site-packages\\spotipy\\client.py:345\u001b[0m, in \u001b[0;36mSpotify.track\u001b[1;34m(self, track_id, market)\u001b[0m\n\u001b[0;32m    337\u001b[0m \u001b[39m\u001b[39m\u001b[39m\"\"\" returns a single track given the track's ID, URI or URL\u001b[39;00m\n\u001b[0;32m    338\u001b[0m \n\u001b[0;32m    339\u001b[0m \u001b[39m    Parameters:\u001b[39;00m\n\u001b[0;32m    340\u001b[0m \u001b[39m        - track_id - a spotify URI, URL or ID\u001b[39;00m\n\u001b[0;32m    341\u001b[0m \u001b[39m        - market - an ISO 3166-1 alpha-2 country code.\u001b[39;00m\n\u001b[0;32m    342\u001b[0m \u001b[39m\"\"\"\u001b[39;00m\n\u001b[0;32m    344\u001b[0m trid \u001b[39m=\u001b[39m \u001b[39mself\u001b[39m\u001b[39m.\u001b[39m_get_id(\u001b[39m\"\u001b[39m\u001b[39mtrack\u001b[39m\u001b[39m\"\u001b[39m, track_id)\n\u001b[1;32m--> 345\u001b[0m \u001b[39mreturn\u001b[39;00m \u001b[39mself\u001b[39;49m\u001b[39m.\u001b[39;49m_get(\u001b[39m\"\u001b[39;49m\u001b[39mtracks/\u001b[39;49m\u001b[39m\"\u001b[39;49m \u001b[39m+\u001b[39;49m trid, market\u001b[39m=\u001b[39;49mmarket)\n",
      "File \u001b[1;32m~\\AppData\\Roaming\\Python\\Python39\\site-packages\\spotipy\\client.py:297\u001b[0m, in \u001b[0;36mSpotify._get\u001b[1;34m(self, url, args, payload, **kwargs)\u001b[0m\n\u001b[0;32m    294\u001b[0m \u001b[39mif\u001b[39;00m args:\n\u001b[0;32m    295\u001b[0m     kwargs\u001b[39m.\u001b[39mupdate(args)\n\u001b[1;32m--> 297\u001b[0m \u001b[39mreturn\u001b[39;00m \u001b[39mself\u001b[39;49m\u001b[39m.\u001b[39;49m_internal_call(\u001b[39m\"\u001b[39;49m\u001b[39mGET\u001b[39;49m\u001b[39m\"\u001b[39;49m, url, payload, kwargs)\n",
      "File \u001b[1;32m~\\AppData\\Roaming\\Python\\Python39\\site-packages\\spotipy\\client.py:221\u001b[0m, in \u001b[0;36mSpotify._internal_call\u001b[1;34m(self, method, url, payload, params)\u001b[0m\n\u001b[0;32m    219\u001b[0m \u001b[39mif\u001b[39;00m \u001b[39mnot\u001b[39;00m url\u001b[39m.\u001b[39mstartswith(\u001b[39m\"\u001b[39m\u001b[39mhttp\u001b[39m\u001b[39m\"\u001b[39m):\n\u001b[0;32m    220\u001b[0m     url \u001b[39m=\u001b[39m \u001b[39mself\u001b[39m\u001b[39m.\u001b[39mprefix \u001b[39m+\u001b[39m url\n\u001b[1;32m--> 221\u001b[0m headers \u001b[39m=\u001b[39m \u001b[39mself\u001b[39;49m\u001b[39m.\u001b[39;49m_auth_headers()\n\u001b[0;32m    223\u001b[0m \u001b[39mif\u001b[39;00m \u001b[39m\"\u001b[39m\u001b[39mcontent_type\u001b[39m\u001b[39m\"\u001b[39m \u001b[39min\u001b[39;00m args[\u001b[39m\"\u001b[39m\u001b[39mparams\u001b[39m\u001b[39m\"\u001b[39m]:\n\u001b[0;32m    224\u001b[0m     headers[\u001b[39m\"\u001b[39m\u001b[39mContent-Type\u001b[39m\u001b[39m\"\u001b[39m] \u001b[39m=\u001b[39m args[\u001b[39m\"\u001b[39m\u001b[39mparams\u001b[39m\u001b[39m\"\u001b[39m][\u001b[39m\"\u001b[39m\u001b[39mcontent_type\u001b[39m\u001b[39m\"\u001b[39m]\n",
      "File \u001b[1;32m~\\AppData\\Roaming\\Python\\Python39\\site-packages\\spotipy\\client.py:212\u001b[0m, in \u001b[0;36mSpotify._auth_headers\u001b[1;34m(self)\u001b[0m\n\u001b[0;32m    210\u001b[0m     \u001b[39mreturn\u001b[39;00m {}\n\u001b[0;32m    211\u001b[0m \u001b[39mtry\u001b[39;00m:\n\u001b[1;32m--> 212\u001b[0m     token \u001b[39m=\u001b[39m \u001b[39mself\u001b[39;49m\u001b[39m.\u001b[39;49mauth_manager\u001b[39m.\u001b[39;49mget_access_token(as_dict\u001b[39m=\u001b[39;49m\u001b[39mFalse\u001b[39;49;00m)\n\u001b[0;32m    213\u001b[0m \u001b[39mexcept\u001b[39;00m \u001b[39mTypeError\u001b[39;00m:\n\u001b[0;32m    214\u001b[0m     token \u001b[39m=\u001b[39m \u001b[39mself\u001b[39m\u001b[39m.\u001b[39mauth_manager\u001b[39m.\u001b[39mget_access_token()\n",
      "File \u001b[1;32m~\\AppData\\Roaming\\Python\\Python39\\site-packages\\spotipy\\oauth2.py:238\u001b[0m, in \u001b[0;36mSpotifyClientCredentials.get_access_token\u001b[1;34m(self, as_dict, check_cache)\u001b[0m\n\u001b[0;32m    235\u001b[0m     \u001b[39mif\u001b[39;00m token_info \u001b[39mand\u001b[39;00m \u001b[39mnot\u001b[39;00m \u001b[39mself\u001b[39m\u001b[39m.\u001b[39mis_token_expired(token_info):\n\u001b[0;32m    236\u001b[0m         \u001b[39mreturn\u001b[39;00m token_info \u001b[39mif\u001b[39;00m as_dict \u001b[39melse\u001b[39;00m token_info[\u001b[39m\"\u001b[39m\u001b[39maccess_token\u001b[39m\u001b[39m\"\u001b[39m]\n\u001b[1;32m--> 238\u001b[0m token_info \u001b[39m=\u001b[39m \u001b[39mself\u001b[39;49m\u001b[39m.\u001b[39;49m_request_access_token()\n\u001b[0;32m    239\u001b[0m token_info \u001b[39m=\u001b[39m \u001b[39mself\u001b[39m\u001b[39m.\u001b[39m_add_custom_values_to_token_info(token_info)\n\u001b[0;32m    240\u001b[0m \u001b[39mself\u001b[39m\u001b[39m.\u001b[39mcache_handler\u001b[39m.\u001b[39msave_token_to_cache(token_info)\n",
      "File \u001b[1;32m~\\AppData\\Roaming\\Python\\Python39\\site-packages\\spotipy\\oauth2.py:257\u001b[0m, in \u001b[0;36mSpotifyClientCredentials._request_access_token\u001b[1;34m(self)\u001b[0m\n\u001b[0;32m    251\u001b[0m logger\u001b[39m.\u001b[39mdebug(\n\u001b[0;32m    252\u001b[0m     \u001b[39m\"\u001b[39m\u001b[39msending POST request to \u001b[39m\u001b[39m%s\u001b[39;00m\u001b[39m with Headers: \u001b[39m\u001b[39m%s\u001b[39;00m\u001b[39m and Body: \u001b[39m\u001b[39m%r\u001b[39;00m\u001b[39m\"\u001b[39m,\n\u001b[0;32m    253\u001b[0m     \u001b[39mself\u001b[39m\u001b[39m.\u001b[39mOAUTH_TOKEN_URL, headers, payload\n\u001b[0;32m    254\u001b[0m )\n\u001b[0;32m    256\u001b[0m \u001b[39mtry\u001b[39;00m:\n\u001b[1;32m--> 257\u001b[0m     response \u001b[39m=\u001b[39m \u001b[39mself\u001b[39;49m\u001b[39m.\u001b[39;49m_session\u001b[39m.\u001b[39;49mpost(\n\u001b[0;32m    258\u001b[0m         \u001b[39mself\u001b[39;49m\u001b[39m.\u001b[39;49mOAUTH_TOKEN_URL,\n\u001b[0;32m    259\u001b[0m         data\u001b[39m=\u001b[39;49mpayload,\n\u001b[0;32m    260\u001b[0m         headers\u001b[39m=\u001b[39;49mheaders,\n\u001b[0;32m    261\u001b[0m         verify\u001b[39m=\u001b[39;49m\u001b[39mTrue\u001b[39;49;00m,\n\u001b[0;32m    262\u001b[0m         proxies\u001b[39m=\u001b[39;49m\u001b[39mself\u001b[39;49m\u001b[39m.\u001b[39;49mproxies,\n\u001b[0;32m    263\u001b[0m         timeout\u001b[39m=\u001b[39;49m\u001b[39mself\u001b[39;49m\u001b[39m.\u001b[39;49mrequests_timeout,\n\u001b[0;32m    264\u001b[0m     )\n\u001b[0;32m    265\u001b[0m     response\u001b[39m.\u001b[39mraise_for_status()\n\u001b[0;32m    266\u001b[0m     token_info \u001b[39m=\u001b[39m response\u001b[39m.\u001b[39mjson()\n",
      "File \u001b[1;32m~\\AppData\\Roaming\\Python\\Python39\\site-packages\\requests\\sessions.py:635\u001b[0m, in \u001b[0;36mSession.post\u001b[1;34m(self, url, data, json, **kwargs)\u001b[0m\n\u001b[0;32m    624\u001b[0m \u001b[39mdef\u001b[39;00m \u001b[39mpost\u001b[39m(\u001b[39mself\u001b[39m, url, data\u001b[39m=\u001b[39m\u001b[39mNone\u001b[39;00m, json\u001b[39m=\u001b[39m\u001b[39mNone\u001b[39;00m, \u001b[39m*\u001b[39m\u001b[39m*\u001b[39mkwargs):\n\u001b[0;32m    625\u001b[0m \u001b[39m    \u001b[39m\u001b[39mr\u001b[39m\u001b[39m\"\"\"Sends a POST request. Returns :class:`Response` object.\u001b[39;00m\n\u001b[0;32m    626\u001b[0m \n\u001b[0;32m    627\u001b[0m \u001b[39m    :param url: URL for the new :class:`Request` object.\u001b[39;00m\n\u001b[1;32m   (...)\u001b[0m\n\u001b[0;32m    632\u001b[0m \u001b[39m    :rtype: requests.Response\u001b[39;00m\n\u001b[0;32m    633\u001b[0m \u001b[39m    \"\"\"\u001b[39;00m\n\u001b[1;32m--> 635\u001b[0m     \u001b[39mreturn\u001b[39;00m \u001b[39mself\u001b[39m\u001b[39m.\u001b[39mrequest(\u001b[39m\"\u001b[39m\u001b[39mPOST\u001b[39m\u001b[39m\"\u001b[39m, url, data\u001b[39m=\u001b[39mdata, json\u001b[39m=\u001b[39mjson, \u001b[39m*\u001b[39m\u001b[39m*\u001b[39mkwargs)\n",
      "File \u001b[1;32m~\\AppData\\Roaming\\Python\\Python39\\site-packages\\requests\\sessions.py:587\u001b[0m, in \u001b[0;36mSession.request\u001b[1;34m(self, method, url, params, data, headers, cookies, files, auth, timeout, allow_redirects, proxies, hooks, stream, verify, cert, json)\u001b[0m\n\u001b[0;32m    582\u001b[0m send_kwargs \u001b[39m=\u001b[39m {\n\u001b[0;32m    583\u001b[0m     \u001b[39m\"\u001b[39m\u001b[39mtimeout\u001b[39m\u001b[39m\"\u001b[39m: timeout,\n\u001b[0;32m    584\u001b[0m     \u001b[39m\"\u001b[39m\u001b[39mallow_redirects\u001b[39m\u001b[39m\"\u001b[39m: allow_redirects,\n\u001b[0;32m    585\u001b[0m }\n\u001b[0;32m    586\u001b[0m send_kwargs\u001b[39m.\u001b[39mupdate(settings)\n\u001b[1;32m--> 587\u001b[0m resp \u001b[39m=\u001b[39m \u001b[39mself\u001b[39m\u001b[39m.\u001b[39msend(prep, \u001b[39m*\u001b[39m\u001b[39m*\u001b[39msend_kwargs)\n\u001b[0;32m    589\u001b[0m \u001b[39mreturn\u001b[39;00m resp\n",
      "File \u001b[1;32m~\\AppData\\Roaming\\Python\\Python39\\site-packages\\requests\\sessions.py:701\u001b[0m, in \u001b[0;36mSession.send\u001b[1;34m(self, request, **kwargs)\u001b[0m\n\u001b[0;32m    698\u001b[0m start \u001b[39m=\u001b[39m preferred_clock()\n\u001b[0;32m    700\u001b[0m \u001b[39m# Send the request\u001b[39;00m\n\u001b[1;32m--> 701\u001b[0m r \u001b[39m=\u001b[39m adapter\u001b[39m.\u001b[39msend(request, \u001b[39m*\u001b[39m\u001b[39m*\u001b[39mkwargs)\n\u001b[0;32m    703\u001b[0m \u001b[39m# Total elapsed time of the request (approximately)\u001b[39;00m\n\u001b[0;32m    704\u001b[0m elapsed \u001b[39m=\u001b[39m preferred_clock() \u001b[39m-\u001b[39m start\n",
      "File \u001b[1;32m~\\AppData\\Roaming\\Python\\Python39\\site-packages\\requests\\adapters.py:565\u001b[0m, in \u001b[0;36mHTTPAdapter.send\u001b[1;34m(self, request, stream, timeout, verify, cert, proxies)\u001b[0m\n\u001b[0;32m    561\u001b[0m     \u001b[39mif\u001b[39;00m \u001b[39misinstance\u001b[39m(e\u001b[39m.\u001b[39mreason, _SSLError):\n\u001b[0;32m    562\u001b[0m         \u001b[39m# This branch is for urllib3 v1.22 and later.\u001b[39;00m\n\u001b[0;32m    563\u001b[0m         \u001b[39mraise\u001b[39;00m SSLError(e, request\u001b[39m=\u001b[39mrequest)\n\u001b[1;32m--> 565\u001b[0m     \u001b[39mraise\u001b[39;00m \u001b[39mConnectionError\u001b[39;00m(e, request\u001b[39m=\u001b[39mrequest)\n\u001b[0;32m    567\u001b[0m \u001b[39mexcept\u001b[39;00m ClosedPoolError \u001b[39mas\u001b[39;00m e:\n\u001b[0;32m    568\u001b[0m     \u001b[39mraise\u001b[39;00m \u001b[39mConnectionError\u001b[39;00m(e, request\u001b[39m=\u001b[39mrequest)\n",
      "\u001b[1;31mConnectionError\u001b[0m: HTTPSConnectionPool(host='accounts.spotify.com', port=443): Max retries exceeded with url: /api/token (Caused by NewConnectionError('<urllib3.connection.HTTPSConnection object at 0x000001FD069ECD00>: Failed to establish a new connection: [WinError 10060] A connection attempt failed because the connected party did not properly respond after a period of time, or established connection failed because connected host has failed to respond'))"
     ]
    }
   ],
   "source": [
    "#add below code to html file to add to dashboard too:\n",
    "with open(\"file.html\", \"a\") as f:\n",
    "    f.truncate(0)\n",
    "\n",
    "    #Song with most miliseconds played\n",
    "    print('Song with most miliseconds played:')\n",
    "    f.write('Song with most miliseconds played:')\n",
    "    msPlayed_max = user[user['msPlayed'] == user['msPlayed'].max()].reset_index()\n",
    "\n",
    "    ms_played_track_info = sp.track(msPlayed_max['track_id'].values[0])\n",
    "    ms_played_artwork_url = ms_played_track_info['album']['images'][1]['url']\n",
    "    art1 = getImage(ms_played_artwork_url)\n",
    "\n",
    "    print(msPlayed_max[['artistName', 'trackName']].iloc[0])\n",
    "    #f.write(msPlayed_max[['artistName', 'trackName']].iloc[0])\n",
    "    #f.write(display(art1))\n",
    "    display(art1)\n",
    "    print(' ')\n",
    "\n",
    "\n",
    "    #Song with most popularity\n",
    "    print('Song with highest popularity score:')\n",
    "    artist_pop_max = user[user['artist_pop'] == user['artist_pop'].max()].reset_index()\n",
    "\n",
    "    artist_pop_track_info = sp.track(artist_pop_max['track_id'].values[0])\n",
    "    artist_pop_artwork_url = artist_pop_track_info['album']['images'][1]['url']\n",
    "    art2 = getImage(artist_pop_artwork_url)\n",
    "\n",
    "    print(artist_pop_max[['artistName', 'trackName']].iloc[0])\n",
    "    display(art2)\n",
    "    print(' ')\n",
    "\n",
    "\n",
    "    #Song with most popular genre\n",
    "    print('Song belonging to the most popular genre:')\n",
    "    genre_max = user[user['genre_0'] == user['genre_0'].max()].reset_index()\n",
    "\n",
    "    genre_track_info = sp.track(genre_max['track_id'].values[0])\n",
    "    genre_artwork_url = genre_track_info['album']['images'][1]['url']\n",
    "    art3 = getImage(genre_artwork_url)\n",
    "\n",
    "    print(genre_max[['artistName', 'trackName']].iloc[0])\n",
    "    display(art3)\n",
    "\n",
    "    print(' ')\n",
    "\n",
    "\n",
    "    #Song with most danceability\n",
    "    print('Song with highest danceability score:')\n",
    "    danceability_max = user[user['danceability'] == user['danceability'].max()].reset_index()\n",
    "\n",
    "    danceability_track_info = sp.track(danceability_max['track_id'].values[0])\n",
    "    danceability_artwork_url = danceability_track_info['album']['images'][1]['url']\n",
    "    art4 = getImage(danceability_artwork_url)\n",
    "\n",
    "    print(danceability_max[['artistName', 'trackName']].iloc[0])\n",
    "    display(art4)\n",
    "\n",
    "    print(' ')\n",
    "\n",
    "\n",
    "    #Song with highest energy\n",
    "    print('Song with highest energy score:')\n",
    "    energy_max = user[user['energy'] == user['energy'].max()].reset_index()\n",
    "\n",
    "    energy_track_info = sp.track(energy_max['track_id'].values[0])\n",
    "    energy_artwork_url = energy_track_info['album']['images'][1]['url']\n",
    "    art5 = getImage(energy_artwork_url)\n",
    "\n",
    "\n",
    "    print(energy_max[['artistName', 'trackName']].iloc[0])\n",
    "    display(art5)\n",
    "\n",
    "    print(' ')\n",
    "\n",
    "\n",
    "    #Song with highest loudness\n",
    "    print('Song with highest loudness score:')\n",
    "    loudness_max = user[user['loudness'] == user['loudness'].max()].reset_index()\n",
    "\n",
    "    loudness_track_info = sp.track(loudness_max['track_id'].values[0])\n",
    "    loudness_artwork_url = loudness_track_info['album']['images'][1]['url']\n",
    "    art6 = getImage(loudness_artwork_url)\n",
    "\n",
    "    print(loudness_max[['artistName', 'trackName']].iloc[0])\n",
    "    display(art6)\n",
    "\n",
    "    print(' ')\n",
    "\n",
    "\n",
    "    #Song with highest speechiness\n",
    "    print('Song with highest speechiness score:')\n",
    "    speechiness_max = user[user['speechiness'] == user['speechiness'].max()].reset_index()\n",
    "\n",
    "    speechiness_track_info = sp.track(speechiness_max['track_id'].values[0])\n",
    "    speechiness_artwork_url = speechiness_track_info['album']['images'][1]['url']\n",
    "    art7 = getImage(speechiness_artwork_url)\n",
    "\n",
    "    print(speechiness_max[['artistName', 'trackName']].iloc[0])\n",
    "    display(art7)\n",
    "\n",
    "    print(' ')\n",
    "\n",
    "\n",
    "    #Song with highest acousticness\n",
    "    print('Song with highest acousticness score:')\n",
    "    acousticness_max = user[user['acousticness'] == user['acousticness'].max()].reset_index()\n",
    "\n",
    "    acousticness_track_info = sp.track(acousticness_max['track_id'].values[0])\n",
    "    acousticness_artwork_url = acousticness_track_info['album']['images'][1]['url']\n",
    "    art8 = getImage(acousticness_artwork_url)\n",
    "\n",
    "    print(acousticness_max[['artistName', 'trackName']].iloc[0])\n",
    "    display(art8)\n",
    "\n",
    "    print(' ')\n",
    "\n",
    "\n",
    "    #Song with highest instrumentalness\n",
    "    print('Song with highest instrumentalness score:')\n",
    "    instrumentalness_max = user[user['instrumentalness'] == user['instrumentalness'].max()].reset_index()\n",
    "\n",
    "    instrumentalness_track_info = sp.track(instrumentalness_max['track_id'].values[0])\n",
    "    instrumentalness_artwork_url = instrumentalness_track_info['album']['images'][1]['url']\n",
    "    art9 = getImage(instrumentalness_artwork_url)\n",
    "\n",
    "    print(instrumentalness_max[['artistName', 'trackName']].iloc[0])\n",
    "    display(art9)\n",
    "\n",
    "    print(' ')\n",
    "\n",
    "\n",
    "    #Song with highest liveness\n",
    "    print('Song with highest liveness score:')\n",
    "    liveness_max = user[user['liveness'] == user['liveness'].max()].reset_index()\n",
    "\n",
    "    liveness_track_info = sp.track(liveness_max['track_id'].values[0])\n",
    "    liveness_artwork_url = liveness_track_info['album']['images'][1]['url']\n",
    "    art10 = getImage(liveness_artwork_url)\n",
    "\n",
    "    print(liveness_max[['artistName', 'trackName']].iloc[0])\n",
    "    display(art10)\n",
    "\n",
    "    print(' ')\n",
    "\n",
    "\n",
    "    #Song with highest valence\n",
    "    print('Song with highest valence score:')\n",
    "    valence_max = user[user['valence'] == user['valence'].max()].reset_index()\n",
    "\n",
    "    valence_track_info = sp.track(valence_max['track_id'].values[0])\n",
    "    valence_artwork_url = valence_track_info['album']['images'][1]['url']\n",
    "    art11 = getImage(valence_artwork_url)\n",
    "\n",
    "    print(valence_max[['artistName', 'trackName']].iloc[0])\n",
    "    display(art11)\n",
    "\n",
    "    print(' ')\n",
    "\n",
    "\n",
    "    #Song with highest tempo\n",
    "    print('Song with highest tempo score:')\n",
    "    tempo_max = user[user['tempo'] == user['tempo'].max()].reset_index()\n",
    "\n",
    "    tempo_track_info = sp.track(tempo_max['track_id'].values[0])\n",
    "    tempo_artwork_url = tempo_track_info['album']['images'][1]['url']\n",
    "    art12 = getImage(tempo_artwork_url)\n",
    "\n",
    "    print(tempo_max[['artistName', 'trackName']].iloc[0])\n",
    "    display(art12)\n",
    "\n",
    "    print(' ')\n",
    "\n",
    "\n",
    "    #Song with highest duration\n",
    "    print('Song with highest duration score:')\n",
    "    duration_max = user[user['duration_ms'] == user['duration_ms'].max()].reset_index()\n",
    "\n",
    "    duration_track_info = sp.track(duration_max['track_id'].values[0])\n",
    "    duration_artwork_url = duration_track_info['album']['images'][1]['url']\n",
    "    art13 = getImage(duration_artwork_url)\n",
    "\n",
    "    print(duration_max[['artistName', 'trackName']].iloc[0])\n",
    "    display(art13)\n",
    "\n",
    "    print(' ')"
   ]
  },
  {
   "cell_type": "code",
   "execution_count": null,
   "id": "4cfc40da",
   "metadata": {},
   "outputs": [],
   "source": [
    "def drop_for_sim_check(song):\n",
    "    print(type(song))\n",
    "    return song.drop(['endTime', 'msPlayed', 'track_id',\n",
    "                    'artistName', 'artist_pop', 'trackName',\n",
    "                    'album', 'track_pop', 'genre_0', 'artist_name_track',\n",
    "                    'genre_1', 'genre_2', 'genre_3',\n",
    "                    'genre_4', 'genre_5', 'genre_6',\n",
    "                    'genre_7', 'genre_8', 'duration_ms'], axis=1)"
   ]
  },
  {
   "cell_type": "code",
   "execution_count": null,
   "id": "bd83e54f",
   "metadata": {},
   "outputs": [
    {
     "name": "stdout",
     "output_type": "stream",
     "text": [
      "              endTime          artistName  \\\n",
      "0    2023-03-18 23:59  Dance Fruits Music   \n",
      "1    2023-03-18 23:57  Dance Fruits Music   \n",
      "2    2023-03-18 23:29  Dance Fruits Music   \n",
      "3    2023-03-18 23:26              Alesso   \n",
      "4    2023-03-18 23:24              Tiësto   \n",
      "..                ...                 ...   \n",
      "395  2023-03-10 17:30  Dance Fruits Music   \n",
      "396  2023-03-10 17:30  Dance Fruits Music   \n",
      "397  2023-03-10 17:30              Alesso   \n",
      "398  2023-03-10 17:30                 ATB   \n",
      "399  2023-03-10 17:30  Dance Fruits Music   \n",
      "\n",
      "                                             trackName  msPlayed  \\\n",
      "0    Calabria (feat. Fallen Roses, Lujavo & Lunis) ...    156190   \n",
      "1                                                Hello    158181   \n",
      "2                                     Better Off Alone    155559   \n",
      "3                      When I’m Gone (with Katy Perry)    161266   \n",
      "4                                         Don't Be Shy    140500   \n",
      "..                                                 ...       ...   \n",
      "395                                         SUMMER JAM      1040   \n",
      "396                            The Rhythm Of The Night      1150   \n",
      "397                    When I’m Gone (with Katy Perry)      1040   \n",
      "398                                    Your Love (9PM)     18021   \n",
      "399                                              Hello      1610   \n",
      "\n",
      "                   track_id   artist_name_track  artist_pop  \\\n",
      "0    6MKuYvesr8p8csU9jt5Roa  Dance Fruits Music          73   \n",
      "1    2uV2Jnqoa5oRnoGfNt19SP  Dance Fruits Music          73   \n",
      "2    4yKN43pgKLGsoGZWpHpW5A  Dance Fruits Music          73   \n",
      "3    5902W4uHWzhtOff1UK7the              Alesso          75   \n",
      "4    0bI7K9Becu2dtXK1Q3cZNB              Tiësto          84   \n",
      "..                      ...                 ...         ...   \n",
      "395  6FhhABinxDtRNKsicIv1EF  Dance Fruits Music          73   \n",
      "396  46tcH6oyF61incTXuv4eHm  Dance Fruits Music          73   \n",
      "397  5902W4uHWzhtOff1UK7the              Alesso          75   \n",
      "398  5YaskwnGDZFDRipaqzbwQx                 ATB          64   \n",
      "399  2uV2Jnqoa5oRnoGfNt19SP  Dance Fruits Music          73   \n",
      "\n",
      "                               album  track_pop        genre_0  ... energy  \\\n",
      "0                 Dance Fruits Music         64  lo-fi product  ...  0.904   \n",
      "1                      Black Beatles         53  lo-fi product  ...  0.794   \n",
      "2                   Better Off Alone         60  lo-fi product  ...  0.954   \n",
      "3    When I’m Gone (with Katy Perry)         78      dance pop  ...  0.886   \n",
      "4                       Don't Be Shy         80       big room  ...  0.787   \n",
      "..                               ...        ...            ...  ...    ...   \n",
      "395                       SUMMER JAM         54  lo-fi product  ...  0.896   \n",
      "396               Dance Fruits Music         48  lo-fi product  ...  0.967   \n",
      "397  When I’m Gone (with Katy Perry)         78      dance pop  ...  0.886   \n",
      "398                  Your Love (9PM)         79   german dance  ...  0.784   \n",
      "399                    Black Beatles         53  lo-fi product  ...  0.794   \n",
      "\n",
      "    loudness speechiness acousticness instrumentalness liveness valence  \\\n",
      "0     -3.408      0.0640      0.01530       0.55000000   0.0963   0.372   \n",
      "1     -7.247      0.0586      0.08100       0.00001750   0.0681   0.494   \n",
      "2     -3.751      0.0402      0.00142       0.24300000   0.2390   0.266   \n",
      "3     -4.179      0.0340      0.02800       0.00000000   0.4810   0.615   \n",
      "4     -3.748      0.0583      0.19800       0.00000000   0.2620   0.513   \n",
      "..       ...         ...          ...              ...      ...     ...   \n",
      "395   -6.446      0.0439      0.09890       0.00000480   0.4230   0.202   \n",
      "396   -3.145      0.0791      0.00407       0.67500000   0.0859   0.391   \n",
      "397   -4.179      0.0340      0.02800       0.00000000   0.4810   0.615   \n",
      "398   -5.603      0.1120      0.19400       0.00000628   0.1150   0.517   \n",
      "399   -7.247      0.0586      0.08100       0.00001750   0.0681   0.494   \n",
      "\n",
      "       tempo  duration_ms  time_signature  \n",
      "0    124.020       128500               4  \n",
      "1    125.022       140225               4  \n",
      "2    131.964       155559               4  \n",
      "3    125.034       161267               4  \n",
      "4    119.986       140500               4  \n",
      "..       ...          ...             ...  \n",
      "395  125.020       142080               4  \n",
      "396  126.969       148062               4  \n",
      "397  125.034       161267               4  \n",
      "398  125.993       150053               4  \n",
      "399  125.022       140225               4  \n",
      "\n",
      "[400 rows x 29 columns]\n",
      "Thank you, your selected track information has now been stored\n",
      "<class 'pandas.core.frame.DataFrame'>\n"
     ]
    }
   ],
   "source": [
    "from sklearn.metrics.pairwise import cosine_similarity\n",
    "bigDataset = pd.read_csv(\"musicdataset.csv\")\n",
    "\n",
    "\n",
    "# Takes the user input and searches the streaming history to check that the user has entered a correct\n",
    "# track name. If they have not entered a track name that matches one in their streaming history\n",
    "# they will again be asked to enter their chosen track.\n",
    "# If they have entered correct track name, the track feature info of that track will be stored to separate\n",
    "# dataframe.\n",
    "\n",
    "user_selected_track_features = user_track_data\n",
    "# Dataframe to store selected track features\n",
    "print(user_selected_track_features)\n",
    "large_dataset_similarity_features = bigDataset.drop([\"uri\", \"key\", \"mode\", \"duration_ms\", \"chorus_hit\", \"sections\", \"popularity\", \"decade\"], axis=1)\n",
    "\n",
    "# Variable to store a number 1 if a correct track name has been entered\n",
    "count = 0\n",
    "# Variable to store index of track that's been compared to users input\n",
    "index = 0\n",
    "\n",
    "\n",
    "while count < 1:\n",
    "    # ask for user input\n",
    "    streaming_track_choice = input(\"Please enter the name of your chosen track:\").lower() \n",
    "    # reset index to 0\n",
    "    index = 0\n",
    "    \n",
    "    # For each track in streaming history, compare to user input\n",
    "    for track in user_selected_track_features['trackName']:\n",
    "        track_lower = track.lower() # change track name to all lower case characters\n",
    "        \n",
    "        if streaming_track_choice != track_lower: # if no match add one to index and try next track\n",
    "            index += 1\n",
    "            \n",
    "            \n",
    "        elif streaming_track_choice == track_lower: # if track name in streaming history matches user input\n",
    "            print(\"Thank you, your selected track information has now been stored\")\n",
    "            user_selected_track_features = user_selected_track_features.iloc[[index]] # add info to dataframe\n",
    "            count +=1 # add 1 to count to break out of while loop\n",
    "            break # stop iterating over track names\n",
    "   \n",
    "\n",
    "user_selected_track_features = drop_for_sim_check(user_selected_track_features)\n",
    "\n",
    "preparedSong1 = user_selected_track_features.iloc[0]\n",
    "preparedSong1 = pd.DataFrame(preparedSong1).transpose()\n",
    "songList = user_track_data[\"trackName\"].unique() #for picking a song in the dashboard later\n",
    "\n"
   ]
  },
  {
   "cell_type": "code",
   "execution_count": null,
   "id": "5d22a3ee",
   "metadata": {},
   "outputs": [
    {
     "data": {
      "text/html": [
       "<div>\n",
       "<style scoped>\n",
       "    .dataframe tbody tr th:only-of-type {\n",
       "        vertical-align: middle;\n",
       "    }\n",
       "\n",
       "    .dataframe tbody tr th {\n",
       "        vertical-align: top;\n",
       "    }\n",
       "\n",
       "    .dataframe thead th {\n",
       "        text-align: right;\n",
       "    }\n",
       "</style>\n",
       "<table border=\"1\" class=\"dataframe\">\n",
       "  <thead>\n",
       "    <tr style=\"text-align: right;\">\n",
       "      <th></th>\n",
       "      <th>Similarity to target song</th>\n",
       "      <th>Song index</th>\n",
       "      <th>Track name</th>\n",
       "      <th>Artist name</th>\n",
       "    </tr>\n",
       "  </thead>\n",
       "  <tbody>\n",
       "    <tr>\n",
       "      <th>40380</th>\n",
       "      <td>1.000000000000</td>\n",
       "      <td>40380</td>\n",
       "      <td>Don't Start Now</td>\n",
       "      <td>Dua Lipa</td>\n",
       "    </tr>\n",
       "    <tr>\n",
       "      <th>36461</th>\n",
       "      <td>0.999999343445</td>\n",
       "      <td>36461</td>\n",
       "      <td>Body</td>\n",
       "      <td>Loud Luxury Featuring Brando</td>\n",
       "    </tr>\n",
       "    <tr>\n",
       "      <th>32439</th>\n",
       "      <td>0.999999214037</td>\n",
       "      <td>32439</td>\n",
       "      <td>Disturbia</td>\n",
       "      <td>Rihanna</td>\n",
       "    </tr>\n",
       "    <tr>\n",
       "      <th>33098</th>\n",
       "      <td>0.999999044186</td>\n",
       "      <td>33098</td>\n",
       "      <td>Love Is Gone</td>\n",
       "      <td>David Guetta &amp; Chris Willis</td>\n",
       "    </tr>\n",
       "    <tr>\n",
       "      <th>36445</th>\n",
       "      <td>0.999998704207</td>\n",
       "      <td>36445</td>\n",
       "      <td>Believer</td>\n",
       "      <td>Imagine Dragons</td>\n",
       "    </tr>\n",
       "    <tr>\n",
       "      <th>34355</th>\n",
       "      <td>0.999998413880</td>\n",
       "      <td>34355</td>\n",
       "      <td>Never (Past Tense)</td>\n",
       "      <td>The Roc Project Featuring Tina Arena</td>\n",
       "    </tr>\n",
       "    <tr>\n",
       "      <th>37028</th>\n",
       "      <td>0.999998381321</td>\n",
       "      <td>37028</td>\n",
       "      <td>What Ifs</td>\n",
       "      <td>Kane Brown Featuring Lauren Alaina</td>\n",
       "    </tr>\n",
       "    <tr>\n",
       "      <th>34492</th>\n",
       "      <td>0.999998257184</td>\n",
       "      <td>34492</td>\n",
       "      <td>Paranoid</td>\n",
       "      <td>Jonas Brothers</td>\n",
       "    </tr>\n",
       "    <tr>\n",
       "      <th>36230</th>\n",
       "      <td>0.999998229915</td>\n",
       "      <td>36230</td>\n",
       "      <td>Blackout</td>\n",
       "      <td>Breathe Carolina</td>\n",
       "    </tr>\n",
       "    <tr>\n",
       "      <th>38136</th>\n",
       "      <td>0.999998003415</td>\n",
       "      <td>38136</td>\n",
       "      <td>Weak</td>\n",
       "      <td>AJR</td>\n",
       "    </tr>\n",
       "  </tbody>\n",
       "</table>\n",
       "</div>"
      ],
      "text/plain": [
       "       Similarity to target song  Song index          Track name  \\\n",
       "40380             1.000000000000       40380     Don't Start Now   \n",
       "36461             0.999999343445       36461                Body   \n",
       "32439             0.999999214037       32439           Disturbia   \n",
       "33098             0.999999044186       33098        Love Is Gone   \n",
       "36445             0.999998704207       36445            Believer   \n",
       "34355             0.999998413880       34355  Never (Past Tense)   \n",
       "37028             0.999998381321       37028            What Ifs   \n",
       "34492             0.999998257184       34492            Paranoid   \n",
       "36230             0.999998229915       36230            Blackout   \n",
       "38136             0.999998003415       38136                Weak   \n",
       "\n",
       "                                Artist name  \n",
       "40380                              Dua Lipa  \n",
       "36461          Loud Luxury Featuring Brando  \n",
       "32439                               Rihanna  \n",
       "33098           David Guetta & Chris Willis  \n",
       "36445                       Imagine Dragons  \n",
       "34355  The Roc Project Featuring Tina Arena  \n",
       "37028    Kane Brown Featuring Lauren Alaina  \n",
       "34492                        Jonas Brothers  \n",
       "36230                      Breathe Carolina  \n",
       "38136                                   AJR  "
      ]
     },
     "execution_count": 48,
     "metadata": {},
     "output_type": "execute_result"
    }
   ],
   "source": [
    "simVals = []\n",
    "indexList = []\n",
    "names = []\n",
    "aname = []\n",
    "similarityDF = pd.DataFrame()\n",
    "songfeatures = preparedSong1.columns #for dropdowns later\n",
    "for i in range(int(len(large_dataset_similarity_features))):\n",
    "    song2 = large_dataset_similarity_features.iloc[i]\n",
    "    sname = song2['track']\n",
    "    artistname = song2['artist']\n",
    "    song2 = song2.drop([\"track\", \"artist\"])\n",
    "    song2 = song2.values.reshape(1,-1)\n",
    "\n",
    "    sim = cosine_similarity(preparedSong1, song2)\n",
    "    simVals.append(sim[0][0])\n",
    "    indexList.append(i)\n",
    "    names.append(sname)\n",
    "    aname.append(artistname)\n",
    "\n",
    "\n",
    "similarityDF[\"Similarity to target song\"] = simVals\n",
    "similarityDF[\"Song index\"] = indexList\n",
    "similarityDF[\"Track name\"] = names\n",
    "similarityDF[\"Artist name\"] = aname\n",
    "\n",
    "#TODO this could prolly be optimised\n",
    "\n",
    "#TODO Error: bc the datasets that song1 and song2 are from are different, it's hard to directly compare them.\n",
    "pd.set_option(\"display.precision\", 12)\n",
    "similarityDF = similarityDF.sort_values(by=[\"Similarity to target song\"], ascending=False)\n",
    "similarityDF.head(10)"
   ]
  },
  {
   "cell_type": "code",
   "execution_count": null,
   "id": "c2e53609",
   "metadata": {},
   "outputs": [],
   "source": [
    "import dash as dash\n",
    "from dash import html\n",
    "import dash_core_components as dcc\n",
    "from dash.dependencies import Output, State, Input\n",
    "import dash_table"
   ]
  },
  {
   "cell_type": "code",
   "execution_count": null,
   "id": "a52fd195",
   "metadata": {},
   "outputs": [],
   "source": [
    "app = dash.Dash(__name__)\n",
    "server = app.server\n",
    "app.title=\"Spotify dashboard🎶\""
   ]
  },
  {
   "cell_type": "code",
   "execution_count": null,
   "id": "3c63a065",
   "metadata": {},
   "outputs": [],
   "source": [
    "@app.callback(\n",
    "    Output('graphdiv', \"children\"),\n",
    "    Input('param1', 'value'),\n",
    "    Input('param2', 'value')\n",
    ")\n",
    "def drawCustomGraph(p1=None, p2=None, **kwargs): #defined further up but this makes it dcc for dashboard\n",
    "    if(p1 != None):\n",
    "        if(p2 != None):\n",
    "            customFig = dcc.Graph(figure=px.scatter(user_track_data, x=p1, y=p2,  color=\"genre_0\", hover_data=['trackName'], width= 1200, height= 800))\n",
    "            #customFig.show()\n",
    "            return customFig\n"
   ]
  },
  {
   "cell_type": "code",
   "execution_count": null,
   "id": "0b3bccad",
   "metadata": {},
   "outputs": [],
   "source": [
    "# @app.callback(\n",
    "#     Output('recommendiv', \"children\"),\n",
    "#     Input('chosensong', 'value')\n",
    "# )\n",
    "# def doSimilarity(chosensong=user_track_data.iloc[0].trackName, **kwargs): #default to the first in your user data if not selected anything\n",
    "#     songdata = user_track_data[user_track_data[\"trackName\"] == chosensong]\n",
    "#     preparedSong1 = drop_for_sim_check(songdata)\n",
    "#     preparedSong1 = user_selected_track_features.iloc[0]\n",
    "#     preparedSong1 = pd.DataFrame(preparedSong1).transpose()\n",
    "    \n",
    "#     simVals = []\n",
    "#     indexList = []\n",
    "#     names = []\n",
    "#     aname = []\n",
    "#     similarityDF = pd.DataFrame()\n",
    "\n",
    "#     for i in range(int(len(large_dataset_similarity_features))):\n",
    "#         song2 = large_dataset_similarity_features.iloc[i]\n",
    "#         sname = song2['track']\n",
    "#         artistname = song2['artist']\n",
    "#         song2 = song2.drop([\"track\", \"artist\"])\n",
    "#         song2 = song2.values.reshape(1,-1)\n",
    "\n",
    "#         sim = cosine_similarity(preparedSong1, song2)\n",
    "#         simVals.append(sim[0][0])\n",
    "#         indexList.append(i)\n",
    "#         names.append(sname)\n",
    "#         aname.append(artistname)\n",
    "\n",
    "\n",
    "#     similarityDF[\"Similarity to target song\"] = simVals\n",
    "#     similarityDF[\"Song index\"] = indexList\n",
    "#     similarityDF[\"Track name\"] = names\n",
    "#     similarityDF[\"Artist name\"] = aname\n",
    "\n",
    "\n",
    "#     pd.set_option(\"display.precision\", 12)\n",
    "#     similarityDF = similarityDF.sort_values(by=[\"Similarity to target song\"], ascending=False)\n",
    "\n",
    "#     table = dash_table.DataTable(data=similarityDF, row_deletable=False)\n",
    "#     return table"
   ]
  },
  {
   "cell_type": "code",
   "execution_count": null,
   "id": "c5d46a98",
   "metadata": {},
   "outputs": [
    {
     "data": {
      "text/plain": [
       "'Body by Loud Luxury Featuring Brando | Disturbia by Rihanna | Love Is Gone by David Guetta & Chris Willis | Believer by Imagine Dragons | Never (Past Tense) by The Roc Project Featuring Tina Arena'"
      ]
     },
     "execution_count": 53,
     "metadata": {},
     "output_type": "execute_result"
    }
   ],
   "source": [
    "similarityDF = similarityDF.set_axis(range(len(similarityDF)))\n",
    "strs = []\n",
    "startat = 0\n",
    "if str(similarityDF.iloc[0][\"Track name\"] == streaming_track_choice):\n",
    "    startat=1\n",
    "for i in range(startat, startat+5):\n",
    "    r1 = str(similarityDF.iloc[i]['Track name'])\n",
    "    r2 = \" by \"\n",
    "    r3 = str(similarityDF.iloc[i]['Artist name'])\n",
    "    st = r1 + r2 + r3\n",
    "    strs.append(st)\n",
    "\n",
    "bigstr = \" | \".join(strs)\n",
    "bigstr"
   ]
  },
  {
   "cell_type": "code",
   "execution_count": null,
   "id": "07c51ce7",
   "metadata": {},
   "outputs": [
    {
     "name": "stdout",
     "output_type": "stream",
     "text": [
      "Dash is running on http://127.0.0.1:8050/\n",
      "\n",
      "Dash is running on http://127.0.0.1:8050/\n",
      "\n",
      " * Serving Flask app '__main__' (lazy loading)\n",
      " * Environment: production\n",
      "\u001b[31m   WARNING: This is a development server. Do not use it in a production deployment.\u001b[0m\n",
      "\u001b[2m   Use a production WSGI server instead.\u001b[0m\n",
      " * Debug mode: on\n"
     ]
    }
   ],
   "source": [
    "\n",
    "app.layout = html.Div(children=[\n",
    "    html.H1('Spotify dashboard😎🥶👺'),\n",
    "    html.Div(children=[\n",
    "        html.P(\"Most frequently listened to tracks:\", style={\"fontSize\": 26}),\n",
    "        dcc.Graph(id=\"graph1\", figure=pFrequentTrack),\n",
    "        html.P(\"Most frequently listened to artists:\", style={\"fontSize\": 26}),\n",
    "        dcc.Graph(id=\"graph2\", figure=pFrequentArtist),\n",
    "        dcc.Dropdown([*songfeatures],id='param1'), #unpack each item in the songfeatures list as an argument with *\n",
    "        dcc.Dropdown([*songfeatures],id='param2'),\n",
    "        html.P(\"Custom characteristics figure:\", style={\"fontSize\": 26})]),\n",
    "\n",
    "    html.Div(id=\"graphdiv\"),\n",
    "    html.P(('Song recommendations for \"', streaming_track_choice, '\":'), style={\"fontSize\": 26}),\n",
    "    dcc.Dropdown([*songList], id=\"chosensong\"),\n",
    "    html.P(bigstr),\n",
    "    #html.Div(id=\"recommendiv\"),\n",
    "\n",
    "    html.Div(children=[\n",
    "        html.P(\"Artist popularity chart:\", style={\"fontSize\": 26}),\n",
    "        dcc.Graph(id=\"graph4\", figure=pArtistPop),\n",
    "\n",
    "        \n",
    "        html.H1(\"-----Song Awards-----\"),\n",
    "        #Song with most miliseconds played\n",
    "        html.P('Song with most miliseconds played:'),\n",
    "        html.P(msPlayed_max['artistName'].iloc[0] + \" - \" + msPlayed_max['trackName'].iloc[0]),\n",
    "        html.Img(src=art1),\n",
    "        html.P(' '),\n",
    "\n",
    "\n",
    "        #Song with most popularity\n",
    "        html.P('Song with highest popularity score:'),\n",
    "        html.P(artist_pop_max['artistName'].iloc[0] + \" - \" + artist_pop_max['trackName'].iloc[0]),\n",
    "        html.Img(src=art2),\n",
    "        html.P(' '),\n",
    "\n",
    "\n",
    "        #Song with most popular genre\n",
    "        html.P('Song belonging to the most popular genre:'),\n",
    "        html.P(genre_max['artistName'].iloc[0] + \" - \" + genre_max['trackName'].iloc[0]),\n",
    "        html.Img(src=art3),\n",
    "        html.P(' '),\n",
    "\n",
    "\n",
    "        #Song with most danceability\n",
    "        html.P('Song with highest danceability score:'),\n",
    "        html.P(danceability_max['artistName'].iloc[0] + \" - \" + danceability_max['trackName'].iloc[0]),\n",
    "        html.Img(src=art4),\n",
    "        html.P(' '),\n",
    "\n",
    "\n",
    "        #Song with highest energy\n",
    "        html.P('Song with highest energy score:'),\n",
    "        html.P(energy_max['artistName'].iloc[0] + \" - \" + energy_max['trackName'].iloc[0]),\n",
    "        html.Img(src=art5),\n",
    "        html.P(' '),\n",
    "\n",
    "\n",
    "        #Song with highest loudness\n",
    "        html.P('Song with highest loudness score:'),\n",
    "        html.P(loudness_max['artistName'].iloc[0] + \" - \" + loudness_max['trackName'].iloc[0]),\n",
    "        html.Img(src=art6),\n",
    "        html.P(' '),\n",
    "\n",
    "\n",
    "        #Song with highest speechiness\n",
    "        html.P('Song with highest speechiness score:'),\n",
    "        html.P(speechiness_max['artistName'].iloc[0] + \" - \" + speechiness_max['trackName'].iloc[0]),\n",
    "        html.Img(src=art7),\n",
    "        html.P(' '),\n",
    "\n",
    "\n",
    "        #Song with highest acousticness\n",
    "        html.P('Song with highest acousticness score:'),\n",
    "        html.P(acousticness_max['artistName'].iloc[0] + \" - \" + acousticness_max['trackName'].iloc[0]),\n",
    "        html.Img(src=art8),\n",
    "        html.P(' '),\n",
    "\n",
    "\n",
    "        #Song with highest instrumentalness\n",
    "        html.P('Song with highest instrumentalness score:'),\n",
    "        html.P(instrumentalness_max['artistName'].iloc[0] + \" - \" + instrumentalness_max['trackName'].iloc[0]),\n",
    "        html.Img(src=art9),\n",
    "        html.P(' '),\n",
    "\n",
    "\n",
    "        #Song with highest liveness\n",
    "        html.P('Song with highest liveness score:'),\n",
    "        html.P(liveness_max['artistName'].iloc[0] + \" - \" + liveness_max['trackName'].iloc[0]),\n",
    "        html.Img(src=art10),\n",
    "        html.P(' '),\n",
    "\n",
    "\n",
    "        #Song with highest valence\n",
    "        html.P('Song with highest valence score:'),\n",
    "        html.P(valence_max['artistName'].iloc[0] + \" - \" + valence_max['trackName'].iloc[0]),\n",
    "        html.Img(src=art11),\n",
    "        html.P(' '),\n",
    "\n",
    "\n",
    "        #Song with highest tempo\n",
    "        html.P('Song with highest tempo score:'),\n",
    "        html.P(tempo_max['artistName'].iloc[0] + \" - \" + tempo_max['trackName'].iloc[0]),\n",
    "        html.Img(src=art12),\n",
    "        html.P(' '),\n",
    "\n",
    "\n",
    "        #Song with highest duration\n",
    "        html.P('Song with highest duration:'),\n",
    "        html.P(duration_max['artistName'].iloc[0] + \" - \" + duration_max['trackName'].iloc[0]),\n",
    "        html.Img(src=art13),\n",
    "        html.P(' '),\n",
    "\n",
    "        html.P(' ')\n",
    "    ])\n",
    "])\n",
    "\n",
    "\n",
    "\n",
    "#layout code courtesy of https://dash.plotly.com/dash-html-components\n",
    "\n",
    "if(__name__ == \"__main__\"):\n",
    "    app.run_server(debug=True, use_reloader=False)"
   ]
  }
 ],
 "metadata": {
  "kernelspec": {
   "display_name": "Python 3 (ipykernel)",
   "language": "python",
   "name": "python3"
  },
  "language_info": {
   "codemirror_mode": {
    "name": "ipython",
    "version": 3
   },
   "file_extension": ".py",
   "mimetype": "text/x-python",
   "name": "python",
   "nbconvert_exporter": "python",
   "pygments_lexer": "ipython3",
   "version": "3.9.7"
  }
 },
 "nbformat": 4,
 "nbformat_minor": 5
}
